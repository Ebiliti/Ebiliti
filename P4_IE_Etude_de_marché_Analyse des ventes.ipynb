{
 "cells": [
  {
   "cell_type": "code",
   "execution_count": 2,
   "id": "0f34d5c4",
   "metadata": {},
   "outputs": [],
   "source": [
    "import numpy as np\n",
    "import pandas as pd\n",
    "%matplotlib inline\n",
    "import matplotlib.pyplot as plt\n",
    "import seaborn as sns\n",
    "import scipy as sp\n",
    "import scipy.stats as st"
   ]
  },
  {
   "cell_type": "markdown",
   "id": "f21f326f",
   "metadata": {},
   "source": [
    "# Import des données"
   ]
  },
  {
   "cell_type": "code",
   "execution_count": 3,
   "id": "4c744954",
   "metadata": {},
   "outputs": [],
   "source": [
    "customers = pd.read_csv('customers.csv')\n",
    "products = pd.read_csv('products.csv')\n",
    "transactions = pd.read_csv('transactions.csv')"
   ]
  },
  {
   "cell_type": "markdown",
   "id": "0ab89b48",
   "metadata": {},
   "source": []
  },
  {
   "cell_type": "markdown",
   "id": "d083d27d",
   "metadata": {},
   "source": [
    "# 1. Nettoyage des données"
   ]
  },
  {
   "cell_type": "markdown",
   "id": "caef7563",
   "metadata": {},
   "source": [
    "## Table customers"
   ]
  },
  {
   "cell_type": "code",
   "execution_count": 4,
   "id": "c4570f64",
   "metadata": {
    "scrolled": true
   },
   "outputs": [
    {
     "name": "stdout",
     "output_type": "stream",
     "text": [
      "<class 'pandas.core.frame.DataFrame'>\n",
      "RangeIndex: 8623 entries, 0 to 8622\n",
      "Data columns (total 3 columns):\n",
      " #   Column     Non-Null Count  Dtype \n",
      "---  ------     --------------  ----- \n",
      " 0   client_id  8623 non-null   object\n",
      " 1   sex        8623 non-null   object\n",
      " 2   birth      8623 non-null   int64 \n",
      "dtypes: int64(1), object(2)\n",
      "memory usage: 202.2+ KB\n"
     ]
    }
   ],
   "source": [
    "customers.info()"
   ]
  },
  {
   "cell_type": "code",
   "execution_count": 5,
   "id": "7b2933e0",
   "metadata": {},
   "outputs": [
    {
     "name": "stdout",
     "output_type": "stream",
     "text": [
      "       client_id   sex        birth\n",
      "count       8623  8623  8623.000000\n",
      "unique      8623     2          NaN\n",
      "top       c_6887     f          NaN\n",
      "freq           1  4491          NaN\n",
      "mean         NaN   NaN  1978.280877\n",
      "std          NaN   NaN    16.919535\n",
      "min          NaN   NaN  1929.000000\n",
      "25%          NaN   NaN  1966.000000\n",
      "50%          NaN   NaN  1979.000000\n",
      "75%          NaN   NaN  1992.000000\n",
      "max          NaN   NaN  2004.000000\n"
     ]
    }
   ],
   "source": [
    "#Résumé statistique des données\n",
    "print(customers.describe(include='all'))"
   ]
  },
  {
   "cell_type": "code",
   "execution_count": 6,
   "id": "a8be1475",
   "metadata": {},
   "outputs": [
    {
     "data": {
      "text/html": [
       "<div>\n",
       "<style scoped>\n",
       "    .dataframe tbody tr th:only-of-type {\n",
       "        vertical-align: middle;\n",
       "    }\n",
       "\n",
       "    .dataframe tbody tr th {\n",
       "        vertical-align: top;\n",
       "    }\n",
       "\n",
       "    .dataframe thead th {\n",
       "        text-align: right;\n",
       "    }\n",
       "</style>\n",
       "<table border=\"1\" class=\"dataframe\">\n",
       "  <thead>\n",
       "    <tr style=\"text-align: right;\">\n",
       "      <th></th>\n",
       "      <th>client_id</th>\n",
       "      <th>sex</th>\n",
       "      <th>birth</th>\n",
       "    </tr>\n",
       "  </thead>\n",
       "  <tbody>\n",
       "    <tr>\n",
       "      <th>8494</th>\n",
       "      <td>ct_1</td>\n",
       "      <td>m</td>\n",
       "      <td>2001</td>\n",
       "    </tr>\n",
       "    <tr>\n",
       "      <th>2735</th>\n",
       "      <td>ct_0</td>\n",
       "      <td>f</td>\n",
       "      <td>2001</td>\n",
       "    </tr>\n",
       "    <tr>\n",
       "      <th>7358</th>\n",
       "      <td>c_999</td>\n",
       "      <td>m</td>\n",
       "      <td>1964</td>\n",
       "    </tr>\n",
       "    <tr>\n",
       "      <th>2145</th>\n",
       "      <td>c_998</td>\n",
       "      <td>m</td>\n",
       "      <td>2001</td>\n",
       "    </tr>\n",
       "    <tr>\n",
       "      <th>94</th>\n",
       "      <td>c_997</td>\n",
       "      <td>f</td>\n",
       "      <td>1994</td>\n",
       "    </tr>\n",
       "  </tbody>\n",
       "</table>\n",
       "</div>"
      ],
      "text/plain": [
       "     client_id sex  birth\n",
       "8494      ct_1   m   2001\n",
       "2735      ct_0   f   2001\n",
       "7358     c_999   m   1964\n",
       "2145     c_998   m   2001\n",
       "94       c_997   f   1994"
      ]
     },
     "execution_count": 6,
     "metadata": {},
     "output_type": "execute_result"
    }
   ],
   "source": [
    "#Véification de la colonne client_id, recherche de valeurs singulières\n",
    "customers.sort_values([\"client_id\"], axis=0, ascending=False, inplace=True)\n",
    "customers.head(5)"
   ]
  },
  {
   "cell_type": "code",
   "execution_count": 7,
   "id": "2c2f128d",
   "metadata": {},
   "outputs": [
    {
     "data": {
      "text/plain": [
       "False"
      ]
     },
     "execution_count": 7,
     "metadata": {},
     "output_type": "execute_result"
    }
   ],
   "source": [
    "#Présence de client_id distincts: ct_1, ct_0\n",
    "#suppression des ct\n",
    "customers.drop(customers.loc[customers['client_id']=='ct_1'].index, inplace=True)\n",
    "customers.drop(customers.loc[customers['client_id']=='ct_0'].index, inplace=True)\n",
    "#Recherche de valeurs nulles\n",
    "customers.isnull().values.any()"
   ]
  },
  {
   "cell_type": "code",
   "execution_count": 8,
   "id": "0ede37ae",
   "metadata": {},
   "outputs": [
    {
     "name": "stdout",
     "output_type": "stream",
     "text": [
      "f    4490\n",
      "m    4131\n",
      "Name: sex, dtype: int64\n",
      "f    52.082125\n",
      "m    47.917875\n",
      "Name: sex, dtype: float64\n"
     ]
    }
   ],
   "source": [
    "#Nombre et proportion de femmes, nombre et proportion d'hommes\n",
    "print(customers['sex'].value_counts())\n",
    "print(customers['sex'].value_counts()/8621*100)"
   ]
  },
  {
   "cell_type": "markdown",
   "id": "0a1a29d4",
   "metadata": {},
   "source": [
    "#### La table customers compte 4490 femmes et 4131 hommes, soit respectivement, 52% de femmes et 48% d'hommes"
   ]
  },
  {
   "cell_type": "code",
   "execution_count": 9,
   "id": "309d283c",
   "metadata": {},
   "outputs": [
    {
     "name": "stdout",
     "output_type": "stream",
     "text": [
      "7358    False\n",
      "2145    False\n",
      "94      False\n",
      "2788    False\n",
      "7004    False\n",
      "        ...  \n",
      "3426    False\n",
      "8472    False\n",
      "2137    False\n",
      "6894    False\n",
      "4299    False\n",
      "Name: birth, Length: 8621, dtype: bool\n"
     ]
    }
   ],
   "source": [
    "#Vérification de la colonne birth\n",
    "#Recherche de valeurs nulles\n",
    "print(customers[\"birth\"].isnull())"
   ]
  },
  {
   "cell_type": "code",
   "execution_count": 10,
   "id": "9b384b06",
   "metadata": {},
   "outputs": [
    {
     "data": {
      "text/html": [
       "<div>\n",
       "<style scoped>\n",
       "    .dataframe tbody tr th:only-of-type {\n",
       "        vertical-align: middle;\n",
       "    }\n",
       "\n",
       "    .dataframe tbody tr th {\n",
       "        vertical-align: top;\n",
       "    }\n",
       "\n",
       "    .dataframe thead th {\n",
       "        text-align: right;\n",
       "    }\n",
       "</style>\n",
       "<table border=\"1\" class=\"dataframe\">\n",
       "  <thead>\n",
       "    <tr style=\"text-align: right;\">\n",
       "      <th></th>\n",
       "      <th>client_id</th>\n",
       "      <th>sex</th>\n",
       "      <th>birth</th>\n",
       "      <th>age</th>\n",
       "    </tr>\n",
       "  </thead>\n",
       "  <tbody>\n",
       "    <tr>\n",
       "      <th>7358</th>\n",
       "      <td>c_999</td>\n",
       "      <td>m</td>\n",
       "      <td>1964</td>\n",
       "      <td>58</td>\n",
       "    </tr>\n",
       "    <tr>\n",
       "      <th>2145</th>\n",
       "      <td>c_998</td>\n",
       "      <td>m</td>\n",
       "      <td>2001</td>\n",
       "      <td>21</td>\n",
       "    </tr>\n",
       "    <tr>\n",
       "      <th>94</th>\n",
       "      <td>c_997</td>\n",
       "      <td>f</td>\n",
       "      <td>1994</td>\n",
       "      <td>28</td>\n",
       "    </tr>\n",
       "    <tr>\n",
       "      <th>2788</th>\n",
       "      <td>c_996</td>\n",
       "      <td>f</td>\n",
       "      <td>1970</td>\n",
       "      <td>52</td>\n",
       "    </tr>\n",
       "    <tr>\n",
       "      <th>7004</th>\n",
       "      <td>c_995</td>\n",
       "      <td>m</td>\n",
       "      <td>1955</td>\n",
       "      <td>67</td>\n",
       "    </tr>\n",
       "    <tr>\n",
       "      <th>...</th>\n",
       "      <td>...</td>\n",
       "      <td>...</td>\n",
       "      <td>...</td>\n",
       "      <td>...</td>\n",
       "    </tr>\n",
       "    <tr>\n",
       "      <th>3426</th>\n",
       "      <td>c_1001</td>\n",
       "      <td>m</td>\n",
       "      <td>1982</td>\n",
       "      <td>40</td>\n",
       "    </tr>\n",
       "    <tr>\n",
       "      <th>8472</th>\n",
       "      <td>c_1000</td>\n",
       "      <td>f</td>\n",
       "      <td>1966</td>\n",
       "      <td>56</td>\n",
       "    </tr>\n",
       "    <tr>\n",
       "      <th>2137</th>\n",
       "      <td>c_100</td>\n",
       "      <td>m</td>\n",
       "      <td>1992</td>\n",
       "      <td>30</td>\n",
       "    </tr>\n",
       "    <tr>\n",
       "      <th>6894</th>\n",
       "      <td>c_10</td>\n",
       "      <td>m</td>\n",
       "      <td>1956</td>\n",
       "      <td>66</td>\n",
       "    </tr>\n",
       "    <tr>\n",
       "      <th>4299</th>\n",
       "      <td>c_1</td>\n",
       "      <td>m</td>\n",
       "      <td>1955</td>\n",
       "      <td>67</td>\n",
       "    </tr>\n",
       "  </tbody>\n",
       "</table>\n",
       "<p>8621 rows × 4 columns</p>\n",
       "</div>"
      ],
      "text/plain": [
       "     client_id sex  birth  age\n",
       "7358     c_999   m   1964   58\n",
       "2145     c_998   m   2001   21\n",
       "94       c_997   f   1994   28\n",
       "2788     c_996   f   1970   52\n",
       "7004     c_995   m   1955   67\n",
       "...        ...  ..    ...  ...\n",
       "3426    c_1001   m   1982   40\n",
       "8472    c_1000   f   1966   56\n",
       "2137     c_100   m   1992   30\n",
       "6894      c_10   m   1956   66\n",
       "4299       c_1   m   1955   67\n",
       "\n",
       "[8621 rows x 4 columns]"
      ]
     },
     "execution_count": 10,
     "metadata": {},
     "output_type": "execute_result"
    }
   ],
   "source": [
    "#Création d'une colonne 'âge', à partir de la colonne birth\n",
    "import datetime\n",
    "time=datetime.datetime.now()\n",
    "today = pd.to_datetime('today')\n",
    "customers['age'] = today.year - customers['birth']\n",
    "customers"
   ]
  },
  {
   "cell_type": "code",
   "execution_count": 11,
   "id": "9e855a86",
   "metadata": {},
   "outputs": [
    {
     "name": "stdout",
     "output_type": "stream",
     "text": [
      "43.724393921818816\n"
     ]
    }
   ],
   "source": [
    "#calcul de l'âge moyen\n",
    "print(customers['age'].mean())"
   ]
  },
  {
   "cell_type": "markdown",
   "id": "753dd61a",
   "metadata": {},
   "source": [
    "# Nettoyage de la table products"
   ]
  },
  {
   "cell_type": "code",
   "execution_count": 12,
   "id": "0eda4b67",
   "metadata": {},
   "outputs": [
    {
     "data": {
      "text/html": [
       "<div>\n",
       "<style scoped>\n",
       "    .dataframe tbody tr th:only-of-type {\n",
       "        vertical-align: middle;\n",
       "    }\n",
       "\n",
       "    .dataframe tbody tr th {\n",
       "        vertical-align: top;\n",
       "    }\n",
       "\n",
       "    .dataframe thead th {\n",
       "        text-align: right;\n",
       "    }\n",
       "</style>\n",
       "<table border=\"1\" class=\"dataframe\">\n",
       "  <thead>\n",
       "    <tr style=\"text-align: right;\">\n",
       "      <th></th>\n",
       "      <th>id_prod</th>\n",
       "      <th>price</th>\n",
       "      <th>categ</th>\n",
       "    </tr>\n",
       "  </thead>\n",
       "  <tbody>\n",
       "    <tr>\n",
       "      <th>3282</th>\n",
       "      <td>2_23</td>\n",
       "      <td>115.99</td>\n",
       "      <td>2</td>\n",
       "    </tr>\n",
       "    <tr>\n",
       "      <th>3283</th>\n",
       "      <td>0_146</td>\n",
       "      <td>17.14</td>\n",
       "      <td>0</td>\n",
       "    </tr>\n",
       "    <tr>\n",
       "      <th>3284</th>\n",
       "      <td>0_802</td>\n",
       "      <td>11.22</td>\n",
       "      <td>0</td>\n",
       "    </tr>\n",
       "    <tr>\n",
       "      <th>3285</th>\n",
       "      <td>1_140</td>\n",
       "      <td>38.56</td>\n",
       "      <td>1</td>\n",
       "    </tr>\n",
       "    <tr>\n",
       "      <th>3286</th>\n",
       "      <td>0_1920</td>\n",
       "      <td>25.16</td>\n",
       "      <td>0</td>\n",
       "    </tr>\n",
       "  </tbody>\n",
       "</table>\n",
       "</div>"
      ],
      "text/plain": [
       "     id_prod   price  categ\n",
       "3282    2_23  115.99      2\n",
       "3283   0_146   17.14      0\n",
       "3284   0_802   11.22      0\n",
       "3285   1_140   38.56      1\n",
       "3286  0_1920   25.16      0"
      ]
     },
     "execution_count": 12,
     "metadata": {},
     "output_type": "execute_result"
    }
   ],
   "source": [
    "products.tail()"
   ]
  },
  {
   "cell_type": "code",
   "execution_count": 13,
   "id": "80808bd7",
   "metadata": {},
   "outputs": [
    {
     "name": "stdout",
     "output_type": "stream",
     "text": [
      "<class 'pandas.core.frame.DataFrame'>\n",
      "RangeIndex: 3287 entries, 0 to 3286\n",
      "Data columns (total 3 columns):\n",
      " #   Column   Non-Null Count  Dtype  \n",
      "---  ------   --------------  -----  \n",
      " 0   id_prod  3287 non-null   object \n",
      " 1   price    3287 non-null   float64\n",
      " 2   categ    3287 non-null   int64  \n",
      "dtypes: float64(1), int64(1), object(1)\n",
      "memory usage: 77.2+ KB\n"
     ]
    }
   ],
   "source": [
    "products.info()"
   ]
  },
  {
   "cell_type": "code",
   "execution_count": 14,
   "id": "a8907ea6",
   "metadata": {},
   "outputs": [
    {
     "name": "stdout",
     "output_type": "stream",
     "text": [
      "       id_prod        price        categ\n",
      "count     3287  3287.000000  3287.000000\n",
      "unique    3287          NaN          NaN\n",
      "top      0_958          NaN          NaN\n",
      "freq         1          NaN          NaN\n",
      "mean       NaN    21.856641     0.370246\n",
      "std        NaN    29.847908     0.615387\n",
      "min        NaN    -1.000000     0.000000\n",
      "25%        NaN     6.990000     0.000000\n",
      "50%        NaN    13.060000     0.000000\n",
      "75%        NaN    22.990000     1.000000\n",
      "max        NaN   300.000000     2.000000\n"
     ]
    }
   ],
   "source": [
    "#Résumé statistique de la tabble products\n",
    "print(products.describe(include='all'))\n"
   ]
  },
  {
   "cell_type": "code",
   "execution_count": 15,
   "id": "1385d90b",
   "metadata": {},
   "outputs": [
    {
     "data": {
      "text/plain": [
       "False"
      ]
     },
     "execution_count": 15,
     "metadata": {},
     "output_type": "execute_result"
    }
   ],
   "source": [
    "#Recherche de valeurs manquantes\n",
    "products.isna().values.any()"
   ]
  },
  {
   "cell_type": "code",
   "execution_count": 16,
   "id": "00667d54",
   "metadata": {},
   "outputs": [
    {
     "name": "stdout",
     "output_type": "stream",
     "text": [
      "731      -1.00\n",
      "2355      0.62\n",
      "2272      0.62\n",
      "370       0.66\n",
      "1211      0.77\n",
      "         ...  \n",
      "2779    233.54\n",
      "1436    236.99\n",
      "394     247.22\n",
      "724     254.44\n",
      "947     300.00\n",
      "Name: price, Length: 3287, dtype: float64\n"
     ]
    }
   ],
   "source": [
    "#Recherche de valeurs aberrantes ou paiculières\n",
    "print(products['price'].sort_values())"
   ]
  },
  {
   "cell_type": "markdown",
   "id": "e56be11e",
   "metadata": {},
   "source": [
    "### Les valeurs extrêmes sont -1 € et 300€"
   ]
  },
  {
   "cell_type": "code",
   "execution_count": 17,
   "id": "605293b7",
   "metadata": {},
   "outputs": [],
   "source": [
    "#Voyons le nombre de produits vendus à un prix inférieur à 0.\n",
    "val_inf_0= products[products[\"price\"]<=0][\"price\"]"
   ]
  },
  {
   "cell_type": "code",
   "execution_count": 18,
   "id": "b6fc32ac",
   "metadata": {},
   "outputs": [
    {
     "data": {
      "text/plain": [
       "731   -1.0\n",
       "Name: price, dtype: float64"
      ]
     },
     "execution_count": 18,
     "metadata": {},
     "output_type": "execute_result"
    }
   ],
   "source": [
    "val_inf_0"
   ]
  },
  {
   "cell_type": "markdown",
   "id": "c7f356be",
   "metadata": {},
   "source": [
    "#### Il n'apparaît qu'un produit proposé à un prix inférieur à 0."
   ]
  },
  {
   "cell_type": "code",
   "execution_count": 19,
   "id": "4f74a177",
   "metadata": {},
   "outputs": [
    {
     "data": {
      "text/plain": [
       "(3287, 3)"
      ]
     },
     "execution_count": 19,
     "metadata": {},
     "output_type": "execute_result"
    }
   ],
   "source": [
    "products.shape"
   ]
  },
  {
   "cell_type": "code",
   "execution_count": 20,
   "id": "5c58d869",
   "metadata": {},
   "outputs": [],
   "source": [
    "#Retrait de la valeur <=0\n",
    "products.drop(products.loc[products['price']<=0].index, inplace=True)"
   ]
  },
  {
   "cell_type": "code",
   "execution_count": 21,
   "id": "73a275bf",
   "metadata": {},
   "outputs": [
    {
     "data": {
      "text/plain": [
       "(3286, 3)"
      ]
     },
     "execution_count": 21,
     "metadata": {},
     "output_type": "execute_result"
    }
   ],
   "source": [
    "products.shape"
   ]
  },
  {
   "cell_type": "code",
   "execution_count": 22,
   "id": "99b0ac10",
   "metadata": {},
   "outputs": [
    {
     "name": "stdout",
     "output_type": "stream",
     "text": [
      "2272      0.62\n",
      "2355      0.62\n",
      "370       0.66\n",
      "1211      0.77\n",
      "1530      0.80\n",
      "         ...  \n",
      "2779    233.54\n",
      "1436    236.99\n",
      "394     247.22\n",
      "724     254.44\n",
      "947     300.00\n",
      "Name: price, Length: 3286, dtype: float64\n"
     ]
    }
   ],
   "source": [
    "print(products['price'].sort_values())"
   ]
  },
  {
   "cell_type": "markdown",
   "id": "90617767",
   "metadata": {},
   "source": [
    "#### La suppression a fonctionné, car le nombre de lignes est passé de 3287 à 3286. Désomais, la valeur la plus petite est 0,62€"
   ]
  },
  {
   "cell_type": "code",
   "execution_count": 23,
   "id": "32f70932",
   "metadata": {},
   "outputs": [
    {
     "data": {
      "text/plain": [
       "array(['0_1421', '0_1368', '0_731', ..., '0_802', '1_140', '0_1920'],\n",
       "      dtype=object)"
      ]
     },
     "execution_count": 23,
     "metadata": {},
     "output_type": "execute_result"
    }
   ],
   "source": [
    "#Vérification de la colonne \"id_prod\"\n",
    "#Recherche des valeurs uniques\n",
    "id_prod_vérif = products['id_prod'].unique()\n",
    "\n",
    "id_prod_vérif"
   ]
  },
  {
   "cell_type": "code",
   "execution_count": 24,
   "id": "db2976a5",
   "metadata": {},
   "outputs": [
    {
     "data": {
      "text/html": [
       "<div>\n",
       "<style scoped>\n",
       "    .dataframe tbody tr th:only-of-type {\n",
       "        vertical-align: middle;\n",
       "    }\n",
       "\n",
       "    .dataframe tbody tr th {\n",
       "        vertical-align: top;\n",
       "    }\n",
       "\n",
       "    .dataframe thead th {\n",
       "        text-align: right;\n",
       "    }\n",
       "</style>\n",
       "<table border=\"1\" class=\"dataframe\">\n",
       "  <thead>\n",
       "    <tr style=\"text-align: right;\">\n",
       "      <th></th>\n",
       "      <th>id_prod</th>\n",
       "      <th>price</th>\n",
       "      <th>categ</th>\n",
       "    </tr>\n",
       "  </thead>\n",
       "  <tbody>\n",
       "    <tr>\n",
       "      <th>1001</th>\n",
       "      <td>0_0</td>\n",
       "      <td>3.75</td>\n",
       "      <td>0</td>\n",
       "    </tr>\n",
       "    <tr>\n",
       "      <th>803</th>\n",
       "      <td>0_1</td>\n",
       "      <td>10.99</td>\n",
       "      <td>0</td>\n",
       "    </tr>\n",
       "    <tr>\n",
       "      <th>2691</th>\n",
       "      <td>0_10</td>\n",
       "      <td>17.95</td>\n",
       "      <td>0</td>\n",
       "    </tr>\n",
       "    <tr>\n",
       "      <th>663</th>\n",
       "      <td>0_100</td>\n",
       "      <td>20.60</td>\n",
       "      <td>0</td>\n",
       "    </tr>\n",
       "    <tr>\n",
       "      <th>922</th>\n",
       "      <td>0_1000</td>\n",
       "      <td>6.84</td>\n",
       "      <td>0</td>\n",
       "    </tr>\n",
       "    <tr>\n",
       "      <th>...</th>\n",
       "      <td>...</td>\n",
       "      <td>...</td>\n",
       "      <td>...</td>\n",
       "    </tr>\n",
       "    <tr>\n",
       "      <th>966</th>\n",
       "      <td>2_95</td>\n",
       "      <td>98.99</td>\n",
       "      <td>2</td>\n",
       "    </tr>\n",
       "    <tr>\n",
       "      <th>2576</th>\n",
       "      <td>2_96</td>\n",
       "      <td>47.91</td>\n",
       "      <td>2</td>\n",
       "    </tr>\n",
       "    <tr>\n",
       "      <th>2698</th>\n",
       "      <td>2_97</td>\n",
       "      <td>160.99</td>\n",
       "      <td>2</td>\n",
       "    </tr>\n",
       "    <tr>\n",
       "      <th>3088</th>\n",
       "      <td>2_98</td>\n",
       "      <td>149.74</td>\n",
       "      <td>2</td>\n",
       "    </tr>\n",
       "    <tr>\n",
       "      <th>3188</th>\n",
       "      <td>2_99</td>\n",
       "      <td>84.99</td>\n",
       "      <td>2</td>\n",
       "    </tr>\n",
       "  </tbody>\n",
       "</table>\n",
       "<p>3286 rows × 3 columns</p>\n",
       "</div>"
      ],
      "text/plain": [
       "     id_prod   price  categ\n",
       "1001     0_0    3.75      0\n",
       "803      0_1   10.99      0\n",
       "2691    0_10   17.95      0\n",
       "663    0_100   20.60      0\n",
       "922   0_1000    6.84      0\n",
       "...      ...     ...    ...\n",
       "966     2_95   98.99      2\n",
       "2576    2_96   47.91      2\n",
       "2698    2_97  160.99      2\n",
       "3088    2_98  149.74      2\n",
       "3188    2_99   84.99      2\n",
       "\n",
       "[3286 rows x 3 columns]"
      ]
     },
     "execution_count": 24,
     "metadata": {},
     "output_type": "execute_result"
    }
   ],
   "source": [
    "#Recherche de valeurs singulières\n",
    "products.sort_values(\"id_prod\")"
   ]
  },
  {
   "cell_type": "markdown",
   "id": "cbab18f9",
   "metadata": {},
   "source": [
    "### Vérification de la colonne categ\n"
   ]
  },
  {
   "cell_type": "code",
   "execution_count": 25,
   "id": "db9ef5e0",
   "metadata": {},
   "outputs": [
    {
     "data": {
      "text/plain": [
       "array([0, 1, 2], dtype=int64)"
      ]
     },
     "execution_count": 25,
     "metadata": {},
     "output_type": "execute_result"
    }
   ],
   "source": [
    "categ_vérif = products['categ'].unique()\n",
    "categ_vérif"
   ]
  },
  {
   "cell_type": "markdown",
   "id": "2ba6198f",
   "metadata": {},
   "source": [
    "# Nettoyage de la table transactions"
   ]
  },
  {
   "cell_type": "code",
   "execution_count": 26,
   "id": "6a811b1d",
   "metadata": {},
   "outputs": [
    {
     "name": "stdout",
     "output_type": "stream",
     "text": [
      "<class 'pandas.core.frame.DataFrame'>\n",
      "RangeIndex: 337016 entries, 0 to 337015\n",
      "Data columns (total 4 columns):\n",
      " #   Column      Non-Null Count   Dtype \n",
      "---  ------      --------------   ----- \n",
      " 0   id_prod     337016 non-null  object\n",
      " 1   date        337016 non-null  object\n",
      " 2   session_id  337016 non-null  object\n",
      " 3   client_id   337016 non-null  object\n",
      "dtypes: object(4)\n",
      "memory usage: 10.3+ MB\n"
     ]
    }
   ],
   "source": [
    "transactions.info()"
   ]
  },
  {
   "cell_type": "code",
   "execution_count": 27,
   "id": "4b70cbee",
   "metadata": {},
   "outputs": [
    {
     "data": {
      "text/plain": [
       "1431         T_0\n",
       "2365         T_0\n",
       "2895         T_0\n",
       "5955         T_0\n",
       "6235      0_2245\n",
       "           ...  \n",
       "332730       T_0\n",
       "333442       T_0\n",
       "335279       T_0\n",
       "335531    0_2245\n",
       "336220    0_2245\n",
       "Name: id_prod, Length: 303, dtype: object"
      ]
     },
     "execution_count": 27,
     "metadata": {},
     "output_type": "execute_result"
    }
   ],
   "source": [
    "#Les tables transactions et products matchent grâce à la clé id_prod, \n",
    "#on a déjà nettoyé la table products et on veut s'assurer que la colonne id-prod de la table transaction est aussi \n",
    "#propre que dans la table product. \n",
    "transactions['id_prod'][np.logical_not(transactions['id_prod'].isin(id_prod_vérif))]"
   ]
  },
  {
   "cell_type": "code",
   "execution_count": 28,
   "id": "65c6e359",
   "metadata": {},
   "outputs": [
    {
     "data": {
      "text/plain": [
       "12.0"
      ]
     },
     "execution_count": 28,
     "metadata": {},
     "output_type": "execute_result"
    }
   ],
   "source": [
    "#Remplacement de l'id_prod 0_2245 par une estimation de la moyenne des prix des produits \n",
    "#de la catégorie 0, car cet id_prod y est associé.\n",
    "#L'id_prod T_0 a déjà été supprimé via la suppression des id_clients \"ct\".\n",
    "#Calcul du prix moyen categ 0\n",
    "prix_moy_cat_0 = round(np.mean(products.price[products.categ == 0]),0)\n",
    "prix_moy_cat_0\n"
   ]
  },
  {
   "cell_type": "markdown",
   "id": "775e38c1",
   "metadata": {},
   "source": [
    "#### La moyenne des prix des produits de la catégorie 0 est de 12€."
   ]
  },
  {
   "cell_type": "code",
   "execution_count": 29,
   "id": "30d23720",
   "metadata": {},
   "outputs": [
    {
     "data": {
      "text/html": [
       "<div>\n",
       "<style scoped>\n",
       "    .dataframe tbody tr th:only-of-type {\n",
       "        vertical-align: middle;\n",
       "    }\n",
       "\n",
       "    .dataframe tbody tr th {\n",
       "        vertical-align: top;\n",
       "    }\n",
       "\n",
       "    .dataframe thead th {\n",
       "        text-align: right;\n",
       "    }\n",
       "</style>\n",
       "<table border=\"1\" class=\"dataframe\">\n",
       "  <thead>\n",
       "    <tr style=\"text-align: right;\">\n",
       "      <th></th>\n",
       "      <th>id_prod</th>\n",
       "      <th>price</th>\n",
       "      <th>categ</th>\n",
       "    </tr>\n",
       "  </thead>\n",
       "  <tbody>\n",
       "    <tr>\n",
       "      <th>0</th>\n",
       "      <td>0_1421</td>\n",
       "      <td>19.99</td>\n",
       "      <td>0</td>\n",
       "    </tr>\n",
       "    <tr>\n",
       "      <th>1</th>\n",
       "      <td>0_1368</td>\n",
       "      <td>5.13</td>\n",
       "      <td>0</td>\n",
       "    </tr>\n",
       "    <tr>\n",
       "      <th>2</th>\n",
       "      <td>0_731</td>\n",
       "      <td>17.99</td>\n",
       "      <td>0</td>\n",
       "    </tr>\n",
       "    <tr>\n",
       "      <th>3</th>\n",
       "      <td>1_587</td>\n",
       "      <td>4.99</td>\n",
       "      <td>1</td>\n",
       "    </tr>\n",
       "    <tr>\n",
       "      <th>4</th>\n",
       "      <td>0_1507</td>\n",
       "      <td>3.99</td>\n",
       "      <td>0</td>\n",
       "    </tr>\n",
       "    <tr>\n",
       "      <th>...</th>\n",
       "      <td>...</td>\n",
       "      <td>...</td>\n",
       "      <td>...</td>\n",
       "    </tr>\n",
       "    <tr>\n",
       "      <th>3282</th>\n",
       "      <td>0_146</td>\n",
       "      <td>17.14</td>\n",
       "      <td>0</td>\n",
       "    </tr>\n",
       "    <tr>\n",
       "      <th>3283</th>\n",
       "      <td>0_802</td>\n",
       "      <td>11.22</td>\n",
       "      <td>0</td>\n",
       "    </tr>\n",
       "    <tr>\n",
       "      <th>3284</th>\n",
       "      <td>1_140</td>\n",
       "      <td>38.56</td>\n",
       "      <td>1</td>\n",
       "    </tr>\n",
       "    <tr>\n",
       "      <th>3285</th>\n",
       "      <td>0_1920</td>\n",
       "      <td>25.16</td>\n",
       "      <td>0</td>\n",
       "    </tr>\n",
       "    <tr>\n",
       "      <th>3286</th>\n",
       "      <td>0_2245</td>\n",
       "      <td>12.00</td>\n",
       "      <td>0</td>\n",
       "    </tr>\n",
       "  </tbody>\n",
       "</table>\n",
       "<p>3287 rows × 3 columns</p>\n",
       "</div>"
      ],
      "text/plain": [
       "     id_prod  price  categ\n",
       "0     0_1421  19.99      0\n",
       "1     0_1368   5.13      0\n",
       "2      0_731  17.99      0\n",
       "3      1_587   4.99      1\n",
       "4     0_1507   3.99      0\n",
       "...      ...    ...    ...\n",
       "3282   0_146  17.14      0\n",
       "3283   0_802  11.22      0\n",
       "3284   1_140  38.56      1\n",
       "3285  0_1920  25.16      0\n",
       "3286  0_2245  12.00      0\n",
       "\n",
       "[3287 rows x 3 columns]"
      ]
     },
     "execution_count": 29,
     "metadata": {},
     "output_type": "execute_result"
    }
   ],
   "source": [
    "#Ajout de 12€ au produits ayant l'id_prod 0_2245 \n",
    "products = products.append({'id_prod' : '0_2245', 'price' : prix_moy_cat_0 , 'categ' : 0}, ignore_index=True)\n",
    "products"
   ]
  },
  {
   "cell_type": "code",
   "execution_count": 30,
   "id": "e4e31888",
   "metadata": {},
   "outputs": [
    {
     "data": {
      "text/plain": [
       "(337016, 4)"
      ]
     },
     "execution_count": 30,
     "metadata": {},
     "output_type": "execute_result"
    }
   ],
   "source": [
    "transactions.shape "
   ]
  },
  {
   "cell_type": "code",
   "execution_count": 31,
   "id": "3aa619cb",
   "metadata": {},
   "outputs": [
    {
     "data": {
      "text/plain": [
       "dtype('O')"
      ]
     },
     "execution_count": 31,
     "metadata": {},
     "output_type": "execute_result"
    }
   ],
   "source": [
    "#Vérification de la colonne date\n",
    "#Vérification de son type\n",
    "transactions.date.dtype"
   ]
  },
  {
   "cell_type": "markdown",
   "id": "313d7c9a",
   "metadata": {},
   "source": [
    "#### La colonne date est traitée comme un objet alors qu'elle est de type date."
   ]
  },
  {
   "cell_type": "code",
   "execution_count": 32,
   "id": "967a59b7",
   "metadata": {},
   "outputs": [
    {
     "data": {
      "text/plain": [
       "False"
      ]
     },
     "execution_count": 32,
     "metadata": {},
     "output_type": "execute_result"
    }
   ],
   "source": [
    "#Recherche des valeurs manquantes. \n",
    "transactions.isna().values.any()"
   ]
  },
  {
   "cell_type": "code",
   "execution_count": 33,
   "id": "969f96f2",
   "metadata": {},
   "outputs": [
    {
     "data": {
      "text/plain": [
       "Index(['id_prod', 'date', 'session_id', 'client_id'], dtype='object')"
      ]
     },
     "execution_count": 33,
     "metadata": {},
     "output_type": "execute_result"
    }
   ],
   "source": [
    "transactions.columns"
   ]
  },
  {
   "cell_type": "code",
   "execution_count": 34,
   "id": "8ac0929a",
   "metadata": {},
   "outputs": [
    {
     "data": {
      "text/plain": [
       "c_1609    12855\n",
       "c_6714     4473\n",
       "c_3454     3275\n",
       "c_4958     2562\n",
       "c_2140      195\n",
       "c_7959      195\n",
       "c_8026      193\n",
       "c_2595      193\n",
       "c_3725      190\n",
       "c_8392      189\n",
       "Name: client_id, dtype: int64"
      ]
     },
     "execution_count": 34,
     "metadata": {},
     "output_type": "execute_result"
    }
   ],
   "source": [
    "#Vérification de la colonne \"client_id\".\n",
    "transactions['client_id'].value_counts().head(10)"
   ]
  },
  {
   "cell_type": "code",
   "execution_count": 35,
   "id": "7c27a869",
   "metadata": {},
   "outputs": [],
   "source": [
    "#Le nombre de transactions des 4 premiers clients est excessif pae rapport à celui des autres. \n"
   ]
  },
  {
   "cell_type": "code",
   "execution_count": 36,
   "id": "f8d8cffd",
   "metadata": {},
   "outputs": [
    {
     "data": {
      "text/html": [
       "<div>\n",
       "<style scoped>\n",
       "    .dataframe tbody tr th:only-of-type {\n",
       "        vertical-align: middle;\n",
       "    }\n",
       "\n",
       "    .dataframe tbody tr th {\n",
       "        vertical-align: top;\n",
       "    }\n",
       "\n",
       "    .dataframe thead th {\n",
       "        text-align: right;\n",
       "    }\n",
       "</style>\n",
       "<table border=\"1\" class=\"dataframe\">\n",
       "  <thead>\n",
       "    <tr style=\"text-align: right;\">\n",
       "      <th></th>\n",
       "      <th>id_prod</th>\n",
       "      <th>client_id</th>\n",
       "      <th>price</th>\n",
       "    </tr>\n",
       "  </thead>\n",
       "  <tbody>\n",
       "    <tr>\n",
       "      <th>0</th>\n",
       "      <td>0_1483</td>\n",
       "      <td>c_4450</td>\n",
       "      <td>4.99</td>\n",
       "    </tr>\n",
       "    <tr>\n",
       "      <th>1</th>\n",
       "      <td>0_1483</td>\n",
       "      <td>c_1576</td>\n",
       "      <td>4.99</td>\n",
       "    </tr>\n",
       "    <tr>\n",
       "      <th>2</th>\n",
       "      <td>0_1483</td>\n",
       "      <td>c_182</td>\n",
       "      <td>4.99</td>\n",
       "    </tr>\n",
       "    <tr>\n",
       "      <th>3</th>\n",
       "      <td>0_1483</td>\n",
       "      <td>c_1196</td>\n",
       "      <td>4.99</td>\n",
       "    </tr>\n",
       "    <tr>\n",
       "      <th>4</th>\n",
       "      <td>0_1483</td>\n",
       "      <td>c_2890</td>\n",
       "      <td>4.99</td>\n",
       "    </tr>\n",
       "    <tr>\n",
       "      <th>...</th>\n",
       "      <td>...</td>\n",
       "      <td>...</td>\n",
       "      <td>...</td>\n",
       "    </tr>\n",
       "    <tr>\n",
       "      <th>336811</th>\n",
       "      <td>0_1683</td>\n",
       "      <td>c_5508</td>\n",
       "      <td>2.99</td>\n",
       "    </tr>\n",
       "    <tr>\n",
       "      <th>336812</th>\n",
       "      <td>2_98</td>\n",
       "      <td>c_5967</td>\n",
       "      <td>149.74</td>\n",
       "    </tr>\n",
       "    <tr>\n",
       "      <th>336813</th>\n",
       "      <td>0_833</td>\n",
       "      <td>c_8260</td>\n",
       "      <td>2.99</td>\n",
       "    </tr>\n",
       "    <tr>\n",
       "      <th>336814</th>\n",
       "      <td>0_1284</td>\n",
       "      <td>c_1551</td>\n",
       "      <td>1.38</td>\n",
       "    </tr>\n",
       "    <tr>\n",
       "      <th>336815</th>\n",
       "      <td>0_1116</td>\n",
       "      <td>c_3291</td>\n",
       "      <td>2.97</td>\n",
       "    </tr>\n",
       "  </tbody>\n",
       "</table>\n",
       "<p>336816 rows × 3 columns</p>\n",
       "</div>"
      ],
      "text/plain": [
       "       id_prod client_id   price\n",
       "0       0_1483    c_4450    4.99\n",
       "1       0_1483    c_1576    4.99\n",
       "2       0_1483     c_182    4.99\n",
       "3       0_1483    c_1196    4.99\n",
       "4       0_1483    c_2890    4.99\n",
       "...        ...       ...     ...\n",
       "336811  0_1683    c_5508    2.99\n",
       "336812    2_98    c_5967  149.74\n",
       "336813   0_833    c_8260    2.99\n",
       "336814  0_1284    c_1551    1.38\n",
       "336815  0_1116    c_3291    2.97\n",
       "\n",
       "[336816 rows x 3 columns]"
      ]
     },
     "execution_count": 36,
     "metadata": {},
     "output_type": "execute_result"
    }
   ],
   "source": [
    "CA_vérif= transactions[[\"id_prod\", \"client_id\"]]\n",
    "CA_vérif_1=products[[\"id_prod\", \"price\"]]\n",
    "Ca_vérif_jointure=CA_vérif.merge(CA_vérif_1 , on =['id_prod'], how=\"inner\")\n",
    "Ca_vérif_jointure"
   ]
  },
  {
   "cell_type": "code",
   "execution_count": 37,
   "id": "3eb2ffca",
   "metadata": {},
   "outputs": [],
   "source": [
    "#création d'une liste\n",
    "CA_vérif_2= (\"c_1609\", \"c_6714\" , \"c_3454\",  \"c_4958\")"
   ]
  },
  {
   "cell_type": "code",
   "execution_count": 38,
   "id": "27952369",
   "metadata": {},
   "outputs": [
    {
     "data": {
      "text/plain": [
       "433952.81"
      ]
     },
     "execution_count": 38,
     "metadata": {},
     "output_type": "execute_result"
    }
   ],
   "source": [
    "#vérification si présence des  4 clients de la liste suscréée dans la nouvelle table\n",
    "#et enregistrement de ces derniers dans une variable.\n",
    "CA_vérif_3 = Ca_vérif_jointure.loc[Ca_vérif_jointure[\"client_id\"].isin(CA_vérif_2)]\n",
    "\n",
    "#Calcul du CA produit par les clients\n",
    "CA_V=CA_vérif_3.price.sum()\n",
    "\n",
    "#Calcul de la proportion du CA généré par les 4 clients par rapport au chiffre d'affaire global.\n",
    "CA_V_1= CA_vérif_3.price.sum()/Ca_vérif_jointure.price.sum()\n",
    "CA_V"
   ]
  },
  {
   "cell_type": "code",
   "execution_count": 39,
   "id": "bb636271",
   "metadata": {},
   "outputs": [
    {
     "data": {
      "text/plain": [
       "7.4847662794108665"
      ]
     },
     "execution_count": 39,
     "metadata": {},
     "output_type": "execute_result"
    }
   ],
   "source": [
    "CA_V_1*100"
   ]
  },
  {
   "cell_type": "markdown",
   "id": "57a56b08",
   "metadata": {},
   "source": [
    "#### Le CA des clients_id \"c_1609\", \"c_6714\" , \"c_3454\",  \"c_4958\" est de 43400.81€, soit environs 7% du CA global. \n",
    "#### Cette proportion est très importante car elle ne concerne que 4 clients. Je fais donc le choix de cupprimer ces deniers. \n",
    "\n"
   ]
  },
  {
   "cell_type": "code",
   "execution_count": 40,
   "id": "018ba647",
   "metadata": {},
   "outputs": [
    {
     "data": {
      "text/plain": [
       "(337016, 4)"
      ]
     },
     "execution_count": 40,
     "metadata": {},
     "output_type": "execute_result"
    }
   ],
   "source": [
    "transactions.shape"
   ]
  },
  {
   "cell_type": "code",
   "execution_count": 41,
   "id": "67e3c5b8",
   "metadata": {},
   "outputs": [
    {
     "data": {
      "text/html": [
       "<div>\n",
       "<style scoped>\n",
       "    .dataframe tbody tr th:only-of-type {\n",
       "        vertical-align: middle;\n",
       "    }\n",
       "\n",
       "    .dataframe tbody tr th {\n",
       "        vertical-align: top;\n",
       "    }\n",
       "\n",
       "    .dataframe thead th {\n",
       "        text-align: right;\n",
       "    }\n",
       "</style>\n",
       "<table border=\"1\" class=\"dataframe\">\n",
       "  <thead>\n",
       "    <tr style=\"text-align: right;\">\n",
       "      <th></th>\n",
       "      <th>id_prod</th>\n",
       "      <th>date</th>\n",
       "      <th>session_id</th>\n",
       "      <th>client_id</th>\n",
       "    </tr>\n",
       "  </thead>\n",
       "  <tbody>\n",
       "    <tr>\n",
       "      <th>0</th>\n",
       "      <td>0_1483</td>\n",
       "      <td>2021-04-10 18:37:28.723910</td>\n",
       "      <td>s_18746</td>\n",
       "      <td>c_4450</td>\n",
       "    </tr>\n",
       "    <tr>\n",
       "      <th>1</th>\n",
       "      <td>2_226</td>\n",
       "      <td>2022-02-03 01:55:53.276402</td>\n",
       "      <td>s_159142</td>\n",
       "      <td>c_277</td>\n",
       "    </tr>\n",
       "    <tr>\n",
       "      <th>2</th>\n",
       "      <td>1_374</td>\n",
       "      <td>2021-09-23 15:13:46.938559</td>\n",
       "      <td>s_94290</td>\n",
       "      <td>c_4270</td>\n",
       "    </tr>\n",
       "    <tr>\n",
       "      <th>3</th>\n",
       "      <td>0_2186</td>\n",
       "      <td>2021-10-17 03:27:18.783634</td>\n",
       "      <td>s_105936</td>\n",
       "      <td>c_4597</td>\n",
       "    </tr>\n",
       "    <tr>\n",
       "      <th>4</th>\n",
       "      <td>0_1351</td>\n",
       "      <td>2021-07-17 20:34:25.800563</td>\n",
       "      <td>s_63642</td>\n",
       "      <td>c_1242</td>\n",
       "    </tr>\n",
       "  </tbody>\n",
       "</table>\n",
       "</div>"
      ],
      "text/plain": [
       "  id_prod                        date session_id client_id\n",
       "0  0_1483  2021-04-10 18:37:28.723910    s_18746    c_4450\n",
       "1   2_226  2022-02-03 01:55:53.276402   s_159142     c_277\n",
       "2   1_374  2021-09-23 15:13:46.938559    s_94290    c_4270\n",
       "3  0_2186  2021-10-17 03:27:18.783634   s_105936    c_4597\n",
       "4  0_1351  2021-07-17 20:34:25.800563    s_63642    c_1242"
      ]
     },
     "execution_count": 41,
     "metadata": {},
     "output_type": "execute_result"
    }
   ],
   "source": [
    "\n",
    "#Retrait des clients au client_id trop élevé, car le poids du CA de ces clients pèserait trop dans le CA  global\n",
    "#c_1609 \n",
    "#c_6714 \n",
    "#c_3454 \n",
    "#c_4958 \n",
    "\n",
    "transactions.drop(transactions.loc[transactions['client_id']=='c_1609'].index, inplace=True)\n",
    "transactions.drop(transactions.loc[transactions['client_id']=='c_6714'].index, inplace=True)\n",
    "transactions.drop(transactions.loc[transactions['client_id']=='c_3454'].index, inplace=True)\n",
    "transactions.drop(transactions.loc[transactions['client_id']=='c_4958'].index, inplace=True)\n",
    "transactions.head()"
   ]
  },
  {
   "cell_type": "code",
   "execution_count": 42,
   "id": "52119b2d",
   "metadata": {},
   "outputs": [
    {
     "data": {
      "text/plain": [
       "(313851, 4)"
      ]
     },
     "execution_count": 42,
     "metadata": {},
     "output_type": "execute_result"
    }
   ],
   "source": [
    "transactions.shape"
   ]
  },
  {
   "cell_type": "code",
   "execution_count": 43,
   "id": "561fd350",
   "metadata": {},
   "outputs": [
    {
     "data": {
      "text/html": [
       "<div>\n",
       "<style scoped>\n",
       "    .dataframe tbody tr th:only-of-type {\n",
       "        vertical-align: middle;\n",
       "    }\n",
       "\n",
       "    .dataframe tbody tr th {\n",
       "        vertical-align: top;\n",
       "    }\n",
       "\n",
       "    .dataframe thead th {\n",
       "        text-align: right;\n",
       "    }\n",
       "</style>\n",
       "<table border=\"1\" class=\"dataframe\">\n",
       "  <thead>\n",
       "    <tr style=\"text-align: right;\">\n",
       "      <th></th>\n",
       "      <th>id_prod</th>\n",
       "      <th>date</th>\n",
       "      <th>session_id</th>\n",
       "      <th>client_id</th>\n",
       "      <th>date1</th>\n",
       "      <th>date_year</th>\n",
       "      <th>date_month</th>\n",
       "    </tr>\n",
       "  </thead>\n",
       "  <tbody>\n",
       "    <tr>\n",
       "      <th>0</th>\n",
       "      <td>0_1483</td>\n",
       "      <td>2021-04-10</td>\n",
       "      <td>s_18746</td>\n",
       "      <td>c_4450</td>\n",
       "      <td>10/04/2021</td>\n",
       "      <td>2021.0</td>\n",
       "      <td>4.0</td>\n",
       "    </tr>\n",
       "    <tr>\n",
       "      <th>1</th>\n",
       "      <td>2_226</td>\n",
       "      <td>2022-02-03</td>\n",
       "      <td>s_159142</td>\n",
       "      <td>c_277</td>\n",
       "      <td>03/02/2022</td>\n",
       "      <td>2022.0</td>\n",
       "      <td>2.0</td>\n",
       "    </tr>\n",
       "    <tr>\n",
       "      <th>2</th>\n",
       "      <td>1_374</td>\n",
       "      <td>2021-09-23</td>\n",
       "      <td>s_94290</td>\n",
       "      <td>c_4270</td>\n",
       "      <td>23/09/2021</td>\n",
       "      <td>2021.0</td>\n",
       "      <td>9.0</td>\n",
       "    </tr>\n",
       "    <tr>\n",
       "      <th>3</th>\n",
       "      <td>0_2186</td>\n",
       "      <td>2021-10-17</td>\n",
       "      <td>s_105936</td>\n",
       "      <td>c_4597</td>\n",
       "      <td>17/10/2021</td>\n",
       "      <td>2021.0</td>\n",
       "      <td>10.0</td>\n",
       "    </tr>\n",
       "    <tr>\n",
       "      <th>4</th>\n",
       "      <td>0_1351</td>\n",
       "      <td>2021-07-17</td>\n",
       "      <td>s_63642</td>\n",
       "      <td>c_1242</td>\n",
       "      <td>17/07/2021</td>\n",
       "      <td>2021.0</td>\n",
       "      <td>7.0</td>\n",
       "    </tr>\n",
       "  </tbody>\n",
       "</table>\n",
       "</div>"
      ],
      "text/plain": [
       "  id_prod       date session_id client_id       date1  date_year  date_month\n",
       "0  0_1483 2021-04-10    s_18746    c_4450  10/04/2021     2021.0         4.0\n",
       "1   2_226 2022-02-03   s_159142     c_277  03/02/2022     2022.0         2.0\n",
       "2   1_374 2021-09-23    s_94290    c_4270  23/09/2021     2021.0         9.0\n",
       "3  0_2186 2021-10-17   s_105936    c_4597  17/10/2021     2021.0        10.0\n",
       "4  0_1351 2021-07-17    s_63642    c_1242  17/07/2021     2021.0         7.0"
      ]
     },
     "execution_count": 43,
     "metadata": {},
     "output_type": "execute_result"
    }
   ],
   "source": [
    "# Modification du type de la variable date \n",
    "transactions.date = pd.to_datetime(transactions.date,\n",
    "              format=\"%Y-%m-%d %H:%M:%S.%f\",                         \n",
    "              errors=\"coerce\")\n",
    "transactions['date'] = pd.to_datetime(transactions['date']).dt.normalize()\n",
    "transactions.dtypes\n",
    "sum(transactions.date.isnull())\n",
    "transactions[\"date1\"]=transactions[\"date\"].dt.strftime(\"%d/%m/%Y\")\n",
    "transactions[\"date_year\"]=transactions[\"date\"].dt.year\n",
    "transactions[\"date_month\"]=transactions[\"date\"].dt.month\n",
    "transactions.head()"
   ]
  },
  {
   "cell_type": "code",
   "execution_count": 44,
   "id": "10a3d0dc",
   "metadata": {},
   "outputs": [],
   "source": [
    "#Recherche des valeurs manquantes"
   ]
  },
  {
   "cell_type": "code",
   "execution_count": 45,
   "id": "1f6b4179",
   "metadata": {},
   "outputs": [
    {
     "data": {
      "text/plain": [
       "id_prod         0\n",
       "date          200\n",
       "session_id      0\n",
       "client_id       0\n",
       "date1         200\n",
       "date_year     200\n",
       "date_month    200\n",
       "dtype: int64"
      ]
     },
     "execution_count": 45,
     "metadata": {},
     "output_type": "execute_result"
    }
   ],
   "source": [
    " transactions.isna().sum()"
   ]
  },
  {
   "cell_type": "code",
   "execution_count": 46,
   "id": "cefa53ee",
   "metadata": {},
   "outputs": [
    {
     "data": {
      "text/plain": [
       "True"
      ]
     },
     "execution_count": 46,
     "metadata": {},
     "output_type": "execute_result"
    }
   ],
   "source": [
    "date_change=transactions[[\"date\",\"date1\",\"date_year\", \"date_month\", \"id_prod\"]]\n",
    "date_change.isna().values.any()"
   ]
  },
  {
   "cell_type": "code",
   "execution_count": 47,
   "id": "9f0b7c09",
   "metadata": {},
   "outputs": [
    {
     "data": {
      "text/plain": [
       "Int64Index([  1431,   2365,   2895,   5955,   7283,  13745,  20470,  22347,\n",
       "             26359,  26407,\n",
       "            ...\n",
       "            328925, 329634, 330454, 331787, 332163, 332594, 332705, 332730,\n",
       "            333442, 335279],\n",
       "           dtype='int64', length=200)"
      ]
     },
     "execution_count": 47,
     "metadata": {},
     "output_type": "execute_result"
    }
   ],
   "source": [
    "transactions.index[transactions.isnull().any(axis=1)]"
   ]
  },
  {
   "cell_type": "code",
   "execution_count": 48,
   "id": "a1830712",
   "metadata": {},
   "outputs": [
    {
     "data": {
      "text/plain": [
       "(200,)"
      ]
     },
     "execution_count": 48,
     "metadata": {},
     "output_type": "execute_result"
    }
   ],
   "source": [
    "index_with_nan = transactions.index[transactions.isnull().any(axis=1)]\n",
    "index_with_nan.shape\n"
   ]
  },
  {
   "cell_type": "code",
   "execution_count": 49,
   "id": "6d049cb1",
   "metadata": {},
   "outputs": [
    {
     "data": {
      "text/plain": [
       "(313651, 7)"
      ]
     },
     "execution_count": 49,
     "metadata": {},
     "output_type": "execute_result"
    }
   ],
   "source": [
    "#suppession des erreurs qui, en réalité, sont liées au clients CT \n",
    "transactions.drop(index_with_nan,0, inplace=True)\n",
    "transactions.shape"
   ]
  },
  {
   "cell_type": "markdown",
   "id": "298a436f",
   "metadata": {},
   "source": [
    "### Mission 2: Analyse des ventes à partir d'une nouvelle table (Ventes) créée par la jointure des trois tables"
   ]
  },
  {
   "cell_type": "code",
   "execution_count": 50,
   "id": "34351a4e",
   "metadata": {
    "scrolled": true
   },
   "outputs": [
    {
     "data": {
      "text/html": [
       "<div>\n",
       "<style scoped>\n",
       "    .dataframe tbody tr th:only-of-type {\n",
       "        vertical-align: middle;\n",
       "    }\n",
       "\n",
       "    .dataframe tbody tr th {\n",
       "        vertical-align: top;\n",
       "    }\n",
       "\n",
       "    .dataframe thead th {\n",
       "        text-align: right;\n",
       "    }\n",
       "</style>\n",
       "<table border=\"1\" class=\"dataframe\">\n",
       "  <thead>\n",
       "    <tr style=\"text-align: right;\">\n",
       "      <th></th>\n",
       "      <th>id_prod</th>\n",
       "      <th>date</th>\n",
       "      <th>session_id</th>\n",
       "      <th>client_id</th>\n",
       "      <th>date1</th>\n",
       "      <th>date_year</th>\n",
       "      <th>date_month</th>\n",
       "      <th>price</th>\n",
       "      <th>categ</th>\n",
       "    </tr>\n",
       "  </thead>\n",
       "  <tbody>\n",
       "    <tr>\n",
       "      <th>0</th>\n",
       "      <td>0_1483</td>\n",
       "      <td>2021-04-10</td>\n",
       "      <td>s_18746</td>\n",
       "      <td>c_4450</td>\n",
       "      <td>10/04/2021</td>\n",
       "      <td>2021.0</td>\n",
       "      <td>4.0</td>\n",
       "      <td>4.99</td>\n",
       "      <td>0</td>\n",
       "    </tr>\n",
       "    <tr>\n",
       "      <th>1</th>\n",
       "      <td>0_1483</td>\n",
       "      <td>2021-10-18</td>\n",
       "      <td>s_106741</td>\n",
       "      <td>c_1576</td>\n",
       "      <td>18/10/2021</td>\n",
       "      <td>2021.0</td>\n",
       "      <td>10.0</td>\n",
       "      <td>4.99</td>\n",
       "      <td>0</td>\n",
       "    </tr>\n",
       "    <tr>\n",
       "      <th>2</th>\n",
       "      <td>0_1483</td>\n",
       "      <td>2021-11-14</td>\n",
       "      <td>s_119491</td>\n",
       "      <td>c_182</td>\n",
       "      <td>14/11/2021</td>\n",
       "      <td>2021.0</td>\n",
       "      <td>11.0</td>\n",
       "      <td>4.99</td>\n",
       "      <td>0</td>\n",
       "    </tr>\n",
       "    <tr>\n",
       "      <th>3</th>\n",
       "      <td>0_1483</td>\n",
       "      <td>2021-07-30</td>\n",
       "      <td>s_69222</td>\n",
       "      <td>c_1196</td>\n",
       "      <td>30/07/2021</td>\n",
       "      <td>2021.0</td>\n",
       "      <td>7.0</td>\n",
       "      <td>4.99</td>\n",
       "      <td>0</td>\n",
       "    </tr>\n",
       "    <tr>\n",
       "      <th>4</th>\n",
       "      <td>0_1483</td>\n",
       "      <td>2021-03-30</td>\n",
       "      <td>s_13545</td>\n",
       "      <td>c_2890</td>\n",
       "      <td>30/03/2021</td>\n",
       "      <td>2021.0</td>\n",
       "      <td>3.0</td>\n",
       "      <td>4.99</td>\n",
       "      <td>0</td>\n",
       "    </tr>\n",
       "    <tr>\n",
       "      <th>...</th>\n",
       "      <td>...</td>\n",
       "      <td>...</td>\n",
       "      <td>...</td>\n",
       "      <td>...</td>\n",
       "      <td>...</td>\n",
       "      <td>...</td>\n",
       "      <td>...</td>\n",
       "      <td>...</td>\n",
       "      <td>...</td>\n",
       "    </tr>\n",
       "    <tr>\n",
       "      <th>313646</th>\n",
       "      <td>0_833</td>\n",
       "      <td>2021-09-27</td>\n",
       "      <td>s_96558</td>\n",
       "      <td>c_8260</td>\n",
       "      <td>27/09/2021</td>\n",
       "      <td>2021.0</td>\n",
       "      <td>9.0</td>\n",
       "      <td>2.99</td>\n",
       "      <td>0</td>\n",
       "    </tr>\n",
       "    <tr>\n",
       "      <th>313647</th>\n",
       "      <td>0_1284</td>\n",
       "      <td>2021-04-14</td>\n",
       "      <td>s_20477</td>\n",
       "      <td>c_1551</td>\n",
       "      <td>14/04/2021</td>\n",
       "      <td>2021.0</td>\n",
       "      <td>4.0</td>\n",
       "      <td>1.38</td>\n",
       "      <td>0</td>\n",
       "    </tr>\n",
       "    <tr>\n",
       "      <th>313648</th>\n",
       "      <td>0_1116</td>\n",
       "      <td>2021-07-27</td>\n",
       "      <td>s_67633</td>\n",
       "      <td>c_3291</td>\n",
       "      <td>27/07/2021</td>\n",
       "      <td>2021.0</td>\n",
       "      <td>7.0</td>\n",
       "      <td>2.97</td>\n",
       "      <td>0</td>\n",
       "    </tr>\n",
       "    <tr>\n",
       "      <th>313649</th>\n",
       "      <td>0_527</td>\n",
       "      <td>2021-08-08</td>\n",
       "      <td>s_73115</td>\n",
       "      <td>c_131</td>\n",
       "      <td>08/08/2021</td>\n",
       "      <td>2021.0</td>\n",
       "      <td>8.0</td>\n",
       "      <td>2.99</td>\n",
       "      <td>0</td>\n",
       "    </tr>\n",
       "    <tr>\n",
       "      <th>313650</th>\n",
       "      <td>1_514</td>\n",
       "      <td>2021-07-07</td>\n",
       "      <td>s_58876</td>\n",
       "      <td>c_1786</td>\n",
       "      <td>07/07/2021</td>\n",
       "      <td>2021.0</td>\n",
       "      <td>7.0</td>\n",
       "      <td>67.66</td>\n",
       "      <td>1</td>\n",
       "    </tr>\n",
       "  </tbody>\n",
       "</table>\n",
       "<p>313651 rows × 9 columns</p>\n",
       "</div>"
      ],
      "text/plain": [
       "       id_prod       date session_id client_id       date1  date_year  \\\n",
       "0       0_1483 2021-04-10    s_18746    c_4450  10/04/2021     2021.0   \n",
       "1       0_1483 2021-10-18   s_106741    c_1576  18/10/2021     2021.0   \n",
       "2       0_1483 2021-11-14   s_119491     c_182  14/11/2021     2021.0   \n",
       "3       0_1483 2021-07-30    s_69222    c_1196  30/07/2021     2021.0   \n",
       "4       0_1483 2021-03-30    s_13545    c_2890  30/03/2021     2021.0   \n",
       "...        ...        ...        ...       ...         ...        ...   \n",
       "313646   0_833 2021-09-27    s_96558    c_8260  27/09/2021     2021.0   \n",
       "313647  0_1284 2021-04-14    s_20477    c_1551  14/04/2021     2021.0   \n",
       "313648  0_1116 2021-07-27    s_67633    c_3291  27/07/2021     2021.0   \n",
       "313649   0_527 2021-08-08    s_73115     c_131  08/08/2021     2021.0   \n",
       "313650   1_514 2021-07-07    s_58876    c_1786  07/07/2021     2021.0   \n",
       "\n",
       "        date_month  price  categ  \n",
       "0              4.0   4.99      0  \n",
       "1             10.0   4.99      0  \n",
       "2             11.0   4.99      0  \n",
       "3              7.0   4.99      0  \n",
       "4              3.0   4.99      0  \n",
       "...            ...    ...    ...  \n",
       "313646         9.0   2.99      0  \n",
       "313647         4.0   1.38      0  \n",
       "313648         7.0   2.97      0  \n",
       "313649         8.0   2.99      0  \n",
       "313650         7.0  67.66      1  \n",
       "\n",
       "[313651 rows x 9 columns]"
      ]
     },
     "execution_count": 50,
     "metadata": {},
     "output_type": "execute_result"
    }
   ],
   "source": [
    "Ventes=transactions.merge(products , on =['id_prod'], how=\"inner\")\n",
    "Ventes"
   ]
  },
  {
   "cell_type": "code",
   "execution_count": 51,
   "id": "b26a5f8b",
   "metadata": {},
   "outputs": [
    {
     "data": {
      "text/html": [
       "<div>\n",
       "<style scoped>\n",
       "    .dataframe tbody tr th:only-of-type {\n",
       "        vertical-align: middle;\n",
       "    }\n",
       "\n",
       "    .dataframe tbody tr th {\n",
       "        vertical-align: top;\n",
       "    }\n",
       "\n",
       "    .dataframe thead th {\n",
       "        text-align: right;\n",
       "    }\n",
       "</style>\n",
       "<table border=\"1\" class=\"dataframe\">\n",
       "  <thead>\n",
       "    <tr style=\"text-align: right;\">\n",
       "      <th></th>\n",
       "      <th>id_prod</th>\n",
       "      <th>date</th>\n",
       "      <th>session_id</th>\n",
       "      <th>client_id</th>\n",
       "      <th>date1</th>\n",
       "      <th>date_year</th>\n",
       "      <th>date_month</th>\n",
       "      <th>price</th>\n",
       "      <th>categ</th>\n",
       "      <th>sex</th>\n",
       "      <th>birth</th>\n",
       "      <th>age</th>\n",
       "    </tr>\n",
       "  </thead>\n",
       "  <tbody>\n",
       "    <tr>\n",
       "      <th>0</th>\n",
       "      <td>0_1483</td>\n",
       "      <td>2021-04-10</td>\n",
       "      <td>s_18746</td>\n",
       "      <td>c_4450</td>\n",
       "      <td>10/04/2021</td>\n",
       "      <td>2021.0</td>\n",
       "      <td>4.0</td>\n",
       "      <td>4.99</td>\n",
       "      <td>0</td>\n",
       "      <td>f</td>\n",
       "      <td>1977</td>\n",
       "      <td>45</td>\n",
       "    </tr>\n",
       "    <tr>\n",
       "      <th>1</th>\n",
       "      <td>0_1085</td>\n",
       "      <td>2021-09-29</td>\n",
       "      <td>s_97382</td>\n",
       "      <td>c_4450</td>\n",
       "      <td>29/09/2021</td>\n",
       "      <td>2021.0</td>\n",
       "      <td>9.0</td>\n",
       "      <td>3.99</td>\n",
       "      <td>0</td>\n",
       "      <td>f</td>\n",
       "      <td>1977</td>\n",
       "      <td>45</td>\n",
       "    </tr>\n",
       "    <tr>\n",
       "      <th>2</th>\n",
       "      <td>0_1453</td>\n",
       "      <td>2021-08-27</td>\n",
       "      <td>s_81509</td>\n",
       "      <td>c_4450</td>\n",
       "      <td>27/08/2021</td>\n",
       "      <td>2021.0</td>\n",
       "      <td>8.0</td>\n",
       "      <td>7.99</td>\n",
       "      <td>0</td>\n",
       "      <td>f</td>\n",
       "      <td>1977</td>\n",
       "      <td>45</td>\n",
       "    </tr>\n",
       "    <tr>\n",
       "      <th>3</th>\n",
       "      <td>0_1405</td>\n",
       "      <td>2021-08-27</td>\n",
       "      <td>s_81509</td>\n",
       "      <td>c_4450</td>\n",
       "      <td>27/08/2021</td>\n",
       "      <td>2021.0</td>\n",
       "      <td>8.0</td>\n",
       "      <td>4.99</td>\n",
       "      <td>0</td>\n",
       "      <td>f</td>\n",
       "      <td>1977</td>\n",
       "      <td>45</td>\n",
       "    </tr>\n",
       "    <tr>\n",
       "      <th>4</th>\n",
       "      <td>0_1392</td>\n",
       "      <td>2021-12-28</td>\n",
       "      <td>s_141302</td>\n",
       "      <td>c_4450</td>\n",
       "      <td>28/12/2021</td>\n",
       "      <td>2021.0</td>\n",
       "      <td>12.0</td>\n",
       "      <td>6.30</td>\n",
       "      <td>0</td>\n",
       "      <td>f</td>\n",
       "      <td>1977</td>\n",
       "      <td>45</td>\n",
       "    </tr>\n",
       "    <tr>\n",
       "      <th>...</th>\n",
       "      <td>...</td>\n",
       "      <td>...</td>\n",
       "      <td>...</td>\n",
       "      <td>...</td>\n",
       "      <td>...</td>\n",
       "      <td>...</td>\n",
       "      <td>...</td>\n",
       "      <td>...</td>\n",
       "      <td>...</td>\n",
       "      <td>...</td>\n",
       "      <td>...</td>\n",
       "      <td>...</td>\n",
       "    </tr>\n",
       "    <tr>\n",
       "      <th>313646</th>\n",
       "      <td>0_2075</td>\n",
       "      <td>2021-10-09</td>\n",
       "      <td>s_102200</td>\n",
       "      <td>c_2793</td>\n",
       "      <td>09/10/2021</td>\n",
       "      <td>2021.0</td>\n",
       "      <td>10.0</td>\n",
       "      <td>8.99</td>\n",
       "      <td>0</td>\n",
       "      <td>m</td>\n",
       "      <td>1933</td>\n",
       "      <td>89</td>\n",
       "    </tr>\n",
       "    <tr>\n",
       "      <th>313647</th>\n",
       "      <td>0_1692</td>\n",
       "      <td>2021-09-15</td>\n",
       "      <td>s_90430</td>\n",
       "      <td>c_4478</td>\n",
       "      <td>15/09/2021</td>\n",
       "      <td>2021.0</td>\n",
       "      <td>9.0</td>\n",
       "      <td>13.36</td>\n",
       "      <td>0</td>\n",
       "      <td>f</td>\n",
       "      <td>1970</td>\n",
       "      <td>52</td>\n",
       "    </tr>\n",
       "    <tr>\n",
       "      <th>313648</th>\n",
       "      <td>2_162</td>\n",
       "      <td>2021-06-03</td>\n",
       "      <td>s_43342</td>\n",
       "      <td>c_755</td>\n",
       "      <td>03/06/2021</td>\n",
       "      <td>2021.0</td>\n",
       "      <td>6.0</td>\n",
       "      <td>102.82</td>\n",
       "      <td>2</td>\n",
       "      <td>f</td>\n",
       "      <td>1996</td>\n",
       "      <td>26</td>\n",
       "    </tr>\n",
       "    <tr>\n",
       "      <th>313649</th>\n",
       "      <td>2_213</td>\n",
       "      <td>2021-12-31</td>\n",
       "      <td>s_142586</td>\n",
       "      <td>c_755</td>\n",
       "      <td>31/12/2021</td>\n",
       "      <td>2021.0</td>\n",
       "      <td>12.0</td>\n",
       "      <td>189.99</td>\n",
       "      <td>2</td>\n",
       "      <td>f</td>\n",
       "      <td>1996</td>\n",
       "      <td>26</td>\n",
       "    </tr>\n",
       "    <tr>\n",
       "      <th>313650</th>\n",
       "      <td>0_142</td>\n",
       "      <td>2021-09-25</td>\n",
       "      <td>s_95415</td>\n",
       "      <td>c_1232</td>\n",
       "      <td>25/09/2021</td>\n",
       "      <td>2021.0</td>\n",
       "      <td>9.0</td>\n",
       "      <td>19.85</td>\n",
       "      <td>0</td>\n",
       "      <td>f</td>\n",
       "      <td>1960</td>\n",
       "      <td>62</td>\n",
       "    </tr>\n",
       "  </tbody>\n",
       "</table>\n",
       "<p>313651 rows × 12 columns</p>\n",
       "</div>"
      ],
      "text/plain": [
       "       id_prod       date session_id client_id       date1  date_year  \\\n",
       "0       0_1483 2021-04-10    s_18746    c_4450  10/04/2021     2021.0   \n",
       "1       0_1085 2021-09-29    s_97382    c_4450  29/09/2021     2021.0   \n",
       "2       0_1453 2021-08-27    s_81509    c_4450  27/08/2021     2021.0   \n",
       "3       0_1405 2021-08-27    s_81509    c_4450  27/08/2021     2021.0   \n",
       "4       0_1392 2021-12-28   s_141302    c_4450  28/12/2021     2021.0   \n",
       "...        ...        ...        ...       ...         ...        ...   \n",
       "313646  0_2075 2021-10-09   s_102200    c_2793  09/10/2021     2021.0   \n",
       "313647  0_1692 2021-09-15    s_90430    c_4478  15/09/2021     2021.0   \n",
       "313648   2_162 2021-06-03    s_43342     c_755  03/06/2021     2021.0   \n",
       "313649   2_213 2021-12-31   s_142586     c_755  31/12/2021     2021.0   \n",
       "313650   0_142 2021-09-25    s_95415    c_1232  25/09/2021     2021.0   \n",
       "\n",
       "        date_month   price  categ sex  birth  age  \n",
       "0              4.0    4.99      0   f   1977   45  \n",
       "1              9.0    3.99      0   f   1977   45  \n",
       "2              8.0    7.99      0   f   1977   45  \n",
       "3              8.0    4.99      0   f   1977   45  \n",
       "4             12.0    6.30      0   f   1977   45  \n",
       "...            ...     ...    ...  ..    ...  ...  \n",
       "313646        10.0    8.99      0   m   1933   89  \n",
       "313647         9.0   13.36      0   f   1970   52  \n",
       "313648         6.0  102.82      2   f   1996   26  \n",
       "313649        12.0  189.99      2   f   1996   26  \n",
       "313650         9.0   19.85      0   f   1960   62  \n",
       "\n",
       "[313651 rows x 12 columns]"
      ]
     },
     "execution_count": 51,
     "metadata": {},
     "output_type": "execute_result"
    }
   ],
   "source": [
    "# Seconde jointure, entre les tables Ventes et customers\n",
    "ventes=Ventes.merge(customers,left_on=\"client_id\", right_on=\"client_id\",how=\"inner\")\n",
    "ventes['age'] = today.year - ventes['birth']\n",
    "ventes"
   ]
  },
  {
   "cell_type": "code",
   "execution_count": 52,
   "id": "c92584d8",
   "metadata": {},
   "outputs": [
    {
     "data": {
      "text/plain": [
       "False"
      ]
     },
     "execution_count": 52,
     "metadata": {},
     "output_type": "execute_result"
    }
   ],
   "source": [
    "ventes.isna().values.any()"
   ]
  },
  {
   "cell_type": "code",
   "execution_count": 53,
   "id": "fc8a3825",
   "metadata": {},
   "outputs": [
    {
     "name": "stdout",
     "output_type": "stream",
     "text": [
      "0\n"
     ]
    }
   ],
   "source": [
    "#Nombre total de valeurs manquantes\n",
    "print(ventes.isnull().sum().sum())\n"
   ]
  },
  {
   "cell_type": "code",
   "execution_count": 54,
   "id": "0ec9057f",
   "metadata": {},
   "outputs": [
    {
     "data": {
      "text/plain": [
       "<bound method NDFrame.describe of        id_prod       date session_id client_id       date1  date_year  \\\n",
       "0       0_1483 2021-04-10    s_18746    c_4450  10/04/2021     2021.0   \n",
       "1       0_1085 2021-09-29    s_97382    c_4450  29/09/2021     2021.0   \n",
       "2       0_1453 2021-08-27    s_81509    c_4450  27/08/2021     2021.0   \n",
       "3       0_1405 2021-08-27    s_81509    c_4450  27/08/2021     2021.0   \n",
       "4       0_1392 2021-12-28   s_141302    c_4450  28/12/2021     2021.0   \n",
       "...        ...        ...        ...       ...         ...        ...   \n",
       "313646  0_2075 2021-10-09   s_102200    c_2793  09/10/2021     2021.0   \n",
       "313647  0_1692 2021-09-15    s_90430    c_4478  15/09/2021     2021.0   \n",
       "313648   2_162 2021-06-03    s_43342     c_755  03/06/2021     2021.0   \n",
       "313649   2_213 2021-12-31   s_142586     c_755  31/12/2021     2021.0   \n",
       "313650   0_142 2021-09-25    s_95415    c_1232  25/09/2021     2021.0   \n",
       "\n",
       "        date_month   price  categ sex  birth  age  \n",
       "0              4.0    4.99      0   f   1977   45  \n",
       "1              9.0    3.99      0   f   1977   45  \n",
       "2              8.0    7.99      0   f   1977   45  \n",
       "3              8.0    4.99      0   f   1977   45  \n",
       "4             12.0    6.30      0   f   1977   45  \n",
       "...            ...     ...    ...  ..    ...  ...  \n",
       "313646        10.0    8.99      0   m   1933   89  \n",
       "313647         9.0   13.36      0   f   1970   52  \n",
       "313648         6.0  102.82      2   f   1996   26  \n",
       "313649        12.0  189.99      2   f   1996   26  \n",
       "313650         9.0   19.85      0   f   1960   62  \n",
       "\n",
       "[313651 rows x 12 columns]>"
      ]
     },
     "execution_count": 54,
     "metadata": {},
     "output_type": "execute_result"
    }
   ],
   "source": [
    "ventes.describe"
   ]
  },
  {
   "cell_type": "code",
   "execution_count": 55,
   "id": "8cc3dfc5",
   "metadata": {
    "scrolled": true
   },
   "outputs": [
    {
     "name": "stdout",
     "output_type": "stream",
     "text": [
      "<class 'pandas.core.frame.DataFrame'>\n",
      "Int64Index: 313651 entries, 0 to 313650\n",
      "Data columns (total 12 columns):\n",
      " #   Column      Non-Null Count   Dtype         \n",
      "---  ------      --------------   -----         \n",
      " 0   id_prod     313651 non-null  object        \n",
      " 1   date        313651 non-null  datetime64[ns]\n",
      " 2   session_id  313651 non-null  object        \n",
      " 3   client_id   313651 non-null  object        \n",
      " 4   date1       313651 non-null  object        \n",
      " 5   date_year   313651 non-null  float64       \n",
      " 6   date_month  313651 non-null  float64       \n",
      " 7   price       313651 non-null  float64       \n",
      " 8   categ       313651 non-null  int64         \n",
      " 9   sex         313651 non-null  object        \n",
      " 10  birth       313651 non-null  int64         \n",
      " 11  age         313651 non-null  int64         \n",
      "dtypes: datetime64[ns](1), float64(3), int64(3), object(5)\n",
      "memory usage: 31.1+ MB\n"
     ]
    }
   ],
   "source": [
    "#Résumé de la table ventes\n",
    "ventes.info()"
   ]
  },
  {
   "cell_type": "code",
   "execution_count": 56,
   "id": "f663ed04",
   "metadata": {},
   "outputs": [],
   "source": [
    "#Création d'une copie de Ventes, au cas où j'aurais besoin de revenir à la table d'origine.\n",
    "VENTES= ventes"
   ]
  },
  {
   "cell_type": "code",
   "execution_count": 57,
   "id": "724d3eea",
   "metadata": {},
   "outputs": [
    {
     "data": {
      "text/plain": [
       "Int64Index([], dtype='int64')"
      ]
     },
     "execution_count": 57,
     "metadata": {},
     "output_type": "execute_result"
    }
   ],
   "source": [
    "ventes.index[ventes.isnull().any(axis=1)]"
   ]
  },
  {
   "cell_type": "markdown",
   "id": "bba263f1",
   "metadata": {},
   "source": [
    "# Calcul du CA annuel"
   ]
  },
  {
   "cell_type": "code",
   "execution_count": 58,
   "id": "2cd1e8b7",
   "metadata": {
    "scrolled": true
   },
   "outputs": [
    {
     "data": {
      "text/html": [
       "<div>\n",
       "<style scoped>\n",
       "    .dataframe tbody tr th:only-of-type {\n",
       "        vertical-align: middle;\n",
       "    }\n",
       "\n",
       "    .dataframe tbody tr th {\n",
       "        vertical-align: top;\n",
       "    }\n",
       "\n",
       "    .dataframe thead th {\n",
       "        text-align: right;\n",
       "    }\n",
       "</style>\n",
       "<table border=\"1\" class=\"dataframe\">\n",
       "  <thead>\n",
       "    <tr style=\"text-align: right;\">\n",
       "      <th></th>\n",
       "      <th>date_year</th>\n",
       "      <th>price</th>\n",
       "    </tr>\n",
       "  </thead>\n",
       "  <tbody>\n",
       "    <tr>\n",
       "      <th>0</th>\n",
       "      <td>2021.0</td>\n",
       "      <td>4.386997e+06</td>\n",
       "    </tr>\n",
       "    <tr>\n",
       "      <th>1</th>\n",
       "      <td>2022.0</td>\n",
       "      <td>9.768639e+05</td>\n",
       "    </tr>\n",
       "  </tbody>\n",
       "</table>\n",
       "</div>"
      ],
      "text/plain": [
       "   date_year         price\n",
       "0     2021.0  4.386997e+06\n",
       "1     2022.0  9.768639e+05"
      ]
     },
     "execution_count": 58,
     "metadata": {},
     "output_type": "execute_result"
    }
   ],
   "source": [
    "Ca_a=ventes[[\"date_year\",\"price\"]]\n",
    "CA_a= Ca_a.groupby([\"date_year\"]).sum([\"price\"])\n",
    "\n",
    "CA_a.reset_index()"
   ]
  },
  {
   "cell_type": "markdown",
   "id": "377756f9",
   "metadata": {},
   "source": [
    "### Le ca de l'année 2021 est de 4388117.57 euros\n",
    "### Le ca de l'année 2022 est de 977 079,9 euros"
   ]
  },
  {
   "cell_type": "code",
   "execution_count": 59,
   "id": "4014895e",
   "metadata": {},
   "outputs": [
    {
     "data": {
      "text/html": [
       "<div>\n",
       "<style scoped>\n",
       "    .dataframe tbody tr th:only-of-type {\n",
       "        vertical-align: middle;\n",
       "    }\n",
       "\n",
       "    .dataframe tbody tr th {\n",
       "        vertical-align: top;\n",
       "    }\n",
       "\n",
       "    .dataframe thead th {\n",
       "        text-align: right;\n",
       "    }\n",
       "</style>\n",
       "<table border=\"1\" class=\"dataframe\">\n",
       "  <thead>\n",
       "    <tr style=\"text-align: right;\">\n",
       "      <th></th>\n",
       "      <th>date_year</th>\n",
       "      <th>price</th>\n",
       "      <th>date_month</th>\n",
       "    </tr>\n",
       "  </thead>\n",
       "  <tbody>\n",
       "    <tr>\n",
       "      <th>0</th>\n",
       "      <td>2021.0</td>\n",
       "      <td>4.99</td>\n",
       "      <td>4.0</td>\n",
       "    </tr>\n",
       "    <tr>\n",
       "      <th>1</th>\n",
       "      <td>2021.0</td>\n",
       "      <td>3.99</td>\n",
       "      <td>9.0</td>\n",
       "    </tr>\n",
       "    <tr>\n",
       "      <th>2</th>\n",
       "      <td>2021.0</td>\n",
       "      <td>7.99</td>\n",
       "      <td>8.0</td>\n",
       "    </tr>\n",
       "    <tr>\n",
       "      <th>3</th>\n",
       "      <td>2021.0</td>\n",
       "      <td>4.99</td>\n",
       "      <td>8.0</td>\n",
       "    </tr>\n",
       "    <tr>\n",
       "      <th>4</th>\n",
       "      <td>2021.0</td>\n",
       "      <td>6.30</td>\n",
       "      <td>12.0</td>\n",
       "    </tr>\n",
       "    <tr>\n",
       "      <th>...</th>\n",
       "      <td>...</td>\n",
       "      <td>...</td>\n",
       "      <td>...</td>\n",
       "    </tr>\n",
       "    <tr>\n",
       "      <th>313646</th>\n",
       "      <td>2021.0</td>\n",
       "      <td>8.99</td>\n",
       "      <td>10.0</td>\n",
       "    </tr>\n",
       "    <tr>\n",
       "      <th>313647</th>\n",
       "      <td>2021.0</td>\n",
       "      <td>13.36</td>\n",
       "      <td>9.0</td>\n",
       "    </tr>\n",
       "    <tr>\n",
       "      <th>313648</th>\n",
       "      <td>2021.0</td>\n",
       "      <td>102.82</td>\n",
       "      <td>6.0</td>\n",
       "    </tr>\n",
       "    <tr>\n",
       "      <th>313649</th>\n",
       "      <td>2021.0</td>\n",
       "      <td>189.99</td>\n",
       "      <td>12.0</td>\n",
       "    </tr>\n",
       "    <tr>\n",
       "      <th>313650</th>\n",
       "      <td>2021.0</td>\n",
       "      <td>19.85</td>\n",
       "      <td>9.0</td>\n",
       "    </tr>\n",
       "  </tbody>\n",
       "</table>\n",
       "<p>258718 rows × 3 columns</p>\n",
       "</div>"
      ],
      "text/plain": [
       "        date_year   price  date_month\n",
       "0          2021.0    4.99         4.0\n",
       "1          2021.0    3.99         9.0\n",
       "2          2021.0    7.99         8.0\n",
       "3          2021.0    4.99         8.0\n",
       "4          2021.0    6.30        12.0\n",
       "...           ...     ...         ...\n",
       "313646     2021.0    8.99        10.0\n",
       "313647     2021.0   13.36         9.0\n",
       "313648     2021.0  102.82         6.0\n",
       "313649     2021.0  189.99        12.0\n",
       "313650     2021.0   19.85         9.0\n",
       "\n",
       "[258718 rows x 3 columns]"
      ]
     },
     "execution_count": 59,
     "metadata": {},
     "output_type": "execute_result"
    }
   ],
   "source": [
    "#Visualisation du CA 2021\n",
    "#Création de la table CA de l'année 2021\n",
    "#D'abord, création d'un double filtre\n",
    "CA_21=ventes[(ventes[\"date_year\"]==2021)& (ventes[\"price\"])>0]\n",
    "#Création d'une table en sélectionnant les colonnes qui m'intéressent pour calculer le CA 2021\n",
    "CA_21_1=CA_21[['date_year','price','date_month']]\n",
    "CA_21_1"
   ]
  },
  {
   "cell_type": "code",
   "execution_count": 60,
   "id": "5865bd8c",
   "metadata": {},
   "outputs": [
    {
     "data": {
      "text/plain": [
       "<function matplotlib.pyplot.show(close=None, block=None)>"
      ]
     },
     "execution_count": 60,
     "metadata": {},
     "output_type": "execute_result"
    },
    {
     "data": {
      "image/png": "[encoded data removed]",
      "text/plain": [
       "<Figure size 432x288 with 1 Axes>"
      ]
     },
     "metadata": {
      "needs_background": "light"
     },
     "output_type": "display_data"
    }
   ],
   "source": [
    "#Visualisaion effective du CA 2021\n",
    "CA_21_1['price'].hist(bins = 60)\n",
    "plt.title(\" Concentration du CA_2021\")\n",
    "plt.xlabel(\"Nombre de produits\")\n",
    "plt.ylabel(\"CA\")\n",
    "plt.show"
   ]
  },
  {
   "cell_type": "markdown",
   "id": "c6e89e7b",
   "metadata": {},
   "source": [
    "#### Ce graphique permet de savoir qu'une faible quantité de produits, moins de 40, concentre une majorité du CA de l'année 2021. \n",
    "#### Plus le nombre de produits augmente, plus le CA est bas voire, proche de 0. "
   ]
  },
  {
   "cell_type": "code",
   "execution_count": 61,
   "id": "347bde36",
   "metadata": {},
   "outputs": [
    {
     "data": {
      "text/html": [
       "<div>\n",
       "<style scoped>\n",
       "    .dataframe tbody tr th:only-of-type {\n",
       "        vertical-align: middle;\n",
       "    }\n",
       "\n",
       "    .dataframe tbody tr th {\n",
       "        vertical-align: top;\n",
       "    }\n",
       "\n",
       "    .dataframe thead th {\n",
       "        text-align: right;\n",
       "    }\n",
       "</style>\n",
       "<table border=\"1\" class=\"dataframe\">\n",
       "  <thead>\n",
       "    <tr style=\"text-align: right;\">\n",
       "      <th></th>\n",
       "      <th>date_year</th>\n",
       "      <th>price</th>\n",
       "    </tr>\n",
       "  </thead>\n",
       "  <tbody>\n",
       "    <tr>\n",
       "      <th>6</th>\n",
       "      <td>2022.0</td>\n",
       "      <td>10.70</td>\n",
       "    </tr>\n",
       "    <tr>\n",
       "      <th>7</th>\n",
       "      <td>2022.0</td>\n",
       "      <td>10.70</td>\n",
       "    </tr>\n",
       "    <tr>\n",
       "      <th>16</th>\n",
       "      <td>2022.0</td>\n",
       "      <td>15.59</td>\n",
       "    </tr>\n",
       "    <tr>\n",
       "      <th>18</th>\n",
       "      <td>2022.0</td>\n",
       "      <td>15.99</td>\n",
       "    </tr>\n",
       "    <tr>\n",
       "      <th>19</th>\n",
       "      <td>2022.0</td>\n",
       "      <td>18.99</td>\n",
       "    </tr>\n",
       "    <tr>\n",
       "      <th>...</th>\n",
       "      <td>...</td>\n",
       "      <td>...</td>\n",
       "    </tr>\n",
       "    <tr>\n",
       "      <th>313631</th>\n",
       "      <td>2022.0</td>\n",
       "      <td>90.99</td>\n",
       "    </tr>\n",
       "    <tr>\n",
       "      <th>313632</th>\n",
       "      <td>2022.0</td>\n",
       "      <td>16.99</td>\n",
       "    </tr>\n",
       "    <tr>\n",
       "      <th>313633</th>\n",
       "      <td>2022.0</td>\n",
       "      <td>123.99</td>\n",
       "    </tr>\n",
       "    <tr>\n",
       "      <th>313636</th>\n",
       "      <td>2022.0</td>\n",
       "      <td>103.99</td>\n",
       "    </tr>\n",
       "    <tr>\n",
       "      <th>313638</th>\n",
       "      <td>2022.0</td>\n",
       "      <td>175.99</td>\n",
       "    </tr>\n",
       "  </tbody>\n",
       "</table>\n",
       "<p>54933 rows × 2 columns</p>\n",
       "</div>"
      ],
      "text/plain": [
       "        date_year   price\n",
       "6          2022.0   10.70\n",
       "7          2022.0   10.70\n",
       "16         2022.0   15.59\n",
       "18         2022.0   15.99\n",
       "19         2022.0   18.99\n",
       "...           ...     ...\n",
       "313631     2022.0   90.99\n",
       "313632     2022.0   16.99\n",
       "313633     2022.0  123.99\n",
       "313636     2022.0  103.99\n",
       "313638     2022.0  175.99\n",
       "\n",
       "[54933 rows x 2 columns]"
      ]
     },
     "execution_count": 61,
     "metadata": {},
     "output_type": "execute_result"
    }
   ],
   "source": [
    "#Visualisation du CA  de l'année 2022 \n",
    "#D'abord, double filtre dans la table ventes\n",
    "\n",
    "CA_22=ventes[(ventes[\"date_year\"]==2022)& (ventes[\"price\"])>0]\n",
    "CA_22_1=CA_22[['date_year','price']]\n",
    "CA_22_1"
   ]
  },
  {
   "cell_type": "code",
   "execution_count": 62,
   "id": "60c1a477",
   "metadata": {},
   "outputs": [
    {
     "data": {
      "text/plain": [
       "976863.89"
      ]
     },
     "execution_count": 62,
     "metadata": {},
     "output_type": "execute_result"
    }
   ],
   "source": [
    "#Calcul effectif du CA de l'année 2022\n",
    "CA_A22=CA_22_1[\"price\"].sum()\n",
    "CA_A22"
   ]
  },
  {
   "cell_type": "code",
   "execution_count": 63,
   "id": "61748f3b",
   "metadata": {},
   "outputs": [
    {
     "data": {
      "text/plain": [
       "<function matplotlib.pyplot.show(close=None, block=None)>"
      ]
     },
     "execution_count": 63,
     "metadata": {},
     "output_type": "execute_result"
    },
    {
     "data": {
      "image/png": "[encoded data removed]",
      "text/plain": [
       "<Figure size 432x288 with 1 Axes>"
      ]
     },
     "metadata": {
      "needs_background": "light"
     },
     "output_type": "display_data"
    }
   ],
   "source": [
    "#Visualisation de ce CA au travers d'un histogramme permettant de voir s'il y a une concentration des prix.\n",
    "CA_22_1['price'].hist(bins = 60)\n",
    "plt.title(\"Concentration du CA_2022\")\n",
    "plt.xlabel(\"Produits\")\n",
    "plt.ylabel(\"CA\")\n",
    "plt.show"
   ]
  },
  {
   "cell_type": "markdown",
   "id": "53f7cb8d",
   "metadata": {},
   "source": [
    "#### Graphique de concentration, son intérêt est de montrer qu'une infime quantité de produits contribue fortement au chiffre d'affaire\n",
    "#### Dans l'histogramme. Concentration du CA_2022: on note que moins de 50 produits, toutes catégories confondues, contribuent \n",
    "####  fortement au CA réalisé en 2022.\n"
   ]
  },
  {
   "cell_type": "markdown",
   "id": "7291cfac",
   "metadata": {},
   "source": [
    "# Evolution du CA annuel"
   ]
  },
  {
   "cell_type": "code",
   "execution_count": 64,
   "id": "85fb7cb0",
   "metadata": {},
   "outputs": [
    {
     "data": {
      "text/html": [
       "<div>\n",
       "<style scoped>\n",
       "    .dataframe tbody tr th:only-of-type {\n",
       "        vertical-align: middle;\n",
       "    }\n",
       "\n",
       "    .dataframe tbody tr th {\n",
       "        vertical-align: top;\n",
       "    }\n",
       "\n",
       "    .dataframe thead th {\n",
       "        text-align: right;\n",
       "    }\n",
       "</style>\n",
       "<table border=\"1\" class=\"dataframe\">\n",
       "  <thead>\n",
       "    <tr style=\"text-align: right;\">\n",
       "      <th></th>\n",
       "      <th>price</th>\n",
       "    </tr>\n",
       "  </thead>\n",
       "  <tbody>\n",
       "    <tr>\n",
       "      <th>1</th>\n",
       "      <td>486635.38</td>\n",
       "    </tr>\n",
       "    <tr>\n",
       "      <th>2</th>\n",
       "      <td>490228.51</td>\n",
       "    </tr>\n",
       "    <tr>\n",
       "      <th>3</th>\n",
       "      <td>443047.11</td>\n",
       "    </tr>\n",
       "    <tr>\n",
       "      <th>4</th>\n",
       "      <td>436341.27</td>\n",
       "    </tr>\n",
       "    <tr>\n",
       "      <th>5</th>\n",
       "      <td>451407.94</td>\n",
       "    </tr>\n",
       "    <tr>\n",
       "      <th>6</th>\n",
       "      <td>444939.47</td>\n",
       "    </tr>\n",
       "    <tr>\n",
       "      <th>7</th>\n",
       "      <td>445704.41</td>\n",
       "    </tr>\n",
       "    <tr>\n",
       "      <th>8</th>\n",
       "      <td>443279.68</td>\n",
       "    </tr>\n",
       "    <tr>\n",
       "      <th>9</th>\n",
       "      <td>466894.36</td>\n",
       "    </tr>\n",
       "    <tr>\n",
       "      <th>10</th>\n",
       "      <td>295322.55</td>\n",
       "    </tr>\n",
       "    <tr>\n",
       "      <th>11</th>\n",
       "      <td>475232.48</td>\n",
       "    </tr>\n",
       "    <tr>\n",
       "      <th>12</th>\n",
       "      <td>484827.80</td>\n",
       "    </tr>\n",
       "  </tbody>\n",
       "</table>\n",
       "</div>"
      ],
      "text/plain": [
       "        price\n",
       "1   486635.38\n",
       "2   490228.51\n",
       "3   443047.11\n",
       "4   436341.27\n",
       "5   451407.94\n",
       "6   444939.47\n",
       "7   445704.41\n",
       "8   443279.68\n",
       "9   466894.36\n",
       "10  295322.55\n",
       "11  475232.48\n",
       "12  484827.80"
      ]
     },
     "execution_count": 64,
     "metadata": {},
     "output_type": "execute_result"
    }
   ],
   "source": [
    "Evol_ca_month=ventes.groupby([\"date_month\"]).agg({\"price\":\"sum\"})\n",
    "Evol_ca_month.reset_index()\n",
    "Evol_ca_month.index = ['1', '2', '3', '4','5','6','7','8','9','10','11','12']\n",
    "Evol_ca_month"
   ]
  },
  {
   "cell_type": "code",
   "execution_count": 65,
   "id": "0aa26516",
   "metadata": {
    "scrolled": true
   },
   "outputs": [
    {
     "data": {
      "text/plain": [
       "[<matplotlib.lines.Line2D at 0x1b4435508e0>]"
      ]
     },
     "execution_count": 65,
     "metadata": {},
     "output_type": "execute_result"
    },
    {
     "data": {
      "image/png": "[encoded data removed]",
      "text/plain": [
       "<Figure size 432x288 with 1 Axes>"
      ]
     },
     "metadata": {
      "needs_background": "light"
     },
     "output_type": "display_data"
    }
   ],
   "source": [
    "graphique_1 = plt.figure()\n",
    "ax = plt.axes()\n",
    "x = Evol_ca_month.price\n",
    "plt.title(\"Evolution du chiffre d'affaire en 2021-2022\")\n",
    "plt.ylabel(\"CA\")\n",
    "plt.xlabel(\"mois\")\n",
    "\n",
    "ax.plot(x)"
   ]
  },
  {
   "cell_type": "code",
   "execution_count": 66,
   "id": "d909e59c",
   "metadata": {},
   "outputs": [],
   "source": [
    "#Pas de supression du CA du mois d'octobre, car j'ignore l'origine de la baisse du CA, \n",
    "#C'est ce que je vais essayer de comprendre.\n"
   ]
  },
  {
   "cell_type": "code",
   "execution_count": 67,
   "id": "9be5cd2b",
   "metadata": {},
   "outputs": [
    {
     "data": {
      "text/html": [
       "<div>\n",
       "<style scoped>\n",
       "    .dataframe tbody tr th:only-of-type {\n",
       "        vertical-align: middle;\n",
       "    }\n",
       "\n",
       "    .dataframe tbody tr th {\n",
       "        vertical-align: top;\n",
       "    }\n",
       "\n",
       "    .dataframe thead th {\n",
       "        text-align: right;\n",
       "    }\n",
       "</style>\n",
       "<table border=\"1\" class=\"dataframe\">\n",
       "  <thead>\n",
       "    <tr style=\"text-align: right;\">\n",
       "      <th></th>\n",
       "      <th>date_month</th>\n",
       "      <th>categ</th>\n",
       "      <th>price</th>\n",
       "    </tr>\n",
       "  </thead>\n",
       "  <tbody>\n",
       "    <tr>\n",
       "      <th>28</th>\n",
       "      <td>10.0</td>\n",
       "      <td>0</td>\n",
       "      <td>12.53</td>\n",
       "    </tr>\n",
       "    <tr>\n",
       "      <th>68</th>\n",
       "      <td>10.0</td>\n",
       "      <td>0</td>\n",
       "      <td>3.99</td>\n",
       "    </tr>\n",
       "    <tr>\n",
       "      <th>72</th>\n",
       "      <td>10.0</td>\n",
       "      <td>0</td>\n",
       "      <td>4.99</td>\n",
       "    </tr>\n",
       "    <tr>\n",
       "      <th>82</th>\n",
       "      <td>10.0</td>\n",
       "      <td>0</td>\n",
       "      <td>12.71</td>\n",
       "    </tr>\n",
       "    <tr>\n",
       "      <th>98</th>\n",
       "      <td>10.0</td>\n",
       "      <td>1</td>\n",
       "      <td>8.58</td>\n",
       "    </tr>\n",
       "    <tr>\n",
       "      <th>...</th>\n",
       "      <td>...</td>\n",
       "      <td>...</td>\n",
       "      <td>...</td>\n",
       "    </tr>\n",
       "    <tr>\n",
       "      <th>313567</th>\n",
       "      <td>10.0</td>\n",
       "      <td>0</td>\n",
       "      <td>4.99</td>\n",
       "    </tr>\n",
       "    <tr>\n",
       "      <th>313598</th>\n",
       "      <td>10.0</td>\n",
       "      <td>0</td>\n",
       "      <td>8.99</td>\n",
       "    </tr>\n",
       "    <tr>\n",
       "      <th>313615</th>\n",
       "      <td>10.0</td>\n",
       "      <td>1</td>\n",
       "      <td>24.67</td>\n",
       "    </tr>\n",
       "    <tr>\n",
       "      <th>313620</th>\n",
       "      <td>10.0</td>\n",
       "      <td>0</td>\n",
       "      <td>6.31</td>\n",
       "    </tr>\n",
       "    <tr>\n",
       "      <th>313646</th>\n",
       "      <td>10.0</td>\n",
       "      <td>0</td>\n",
       "      <td>8.99</td>\n",
       "    </tr>\n",
       "  </tbody>\n",
       "</table>\n",
       "<p>20043 rows × 3 columns</p>\n",
       "</div>"
      ],
      "text/plain": [
       "        date_month  categ  price\n",
       "28            10.0      0  12.53\n",
       "68            10.0      0   3.99\n",
       "72            10.0      0   4.99\n",
       "82            10.0      0  12.71\n",
       "98            10.0      1   8.58\n",
       "...            ...    ...    ...\n",
       "313567        10.0      0   4.99\n",
       "313598        10.0      0   8.99\n",
       "313615        10.0      1  24.67\n",
       "313620        10.0      0   6.31\n",
       "313646        10.0      0   8.99\n",
       "\n",
       "[20043 rows x 3 columns]"
      ]
     },
     "execution_count": 67,
     "metadata": {},
     "output_type": "execute_result"
    }
   ],
   "source": [
    "#A partir de la table ventes, création d'une table pour observer le CA du mois d'octobre\n",
    "Ca_oct=ventes[['date_month','categ','price']]\n",
    "\n",
    "#Double filtres sur la table créée. \n",
    "ca_oct_cat=Ca_oct[(Ca_oct[\"date_month\"]==10)&(Ca_oct[\"price\"])>0 &(Ca_oct[\"categ\"])]\n",
    "ca_oct_cat"
   ]
  },
  {
   "cell_type": "code",
   "execution_count": 68,
   "id": "769106b6",
   "metadata": {},
   "outputs": [
    {
     "data": {
      "text/plain": [
       "0    17414\n",
       "1     1571\n",
       "2     1058\n",
       "Name: categ, dtype: int64"
      ]
     },
     "execution_count": 68,
     "metadata": {},
     "output_type": "execute_result"
    }
   ],
   "source": [
    "ca_oct_cat.categ.value_counts()"
   ]
  },
  {
   "cell_type": "markdown",
   "id": "36c1b8d7",
   "metadata": {},
   "source": [
    "### Représentation graphique de la distribution du CA d'octobre 2021 par catégorie de produit"
   ]
  },
  {
   "cell_type": "code",
   "execution_count": 69,
   "id": "03c61042",
   "metadata": {
    "scrolled": true
   },
   "outputs": [
    {
     "data": {
      "image/png": "[encoded data removed]",
      "text/plain": [
       "<Figure size 432x288 with 1 Axes>"
      ]
     },
     "metadata": {},
     "output_type": "display_data"
    }
   ],
   "source": [
    "ca_oct_cat['categ'].value_counts(normalize=True).plot(kind='pie', autopct='%1.0f%%')\n",
    "plt.title(\"Répartition CA selon la catégorie_octobre_2021\")\n",
    "plt.ylabel(\"CA\")\n",
    "plt.legend()\n",
    "plt.show()"
   ]
  },
  {
   "cell_type": "code",
   "execution_count": 70,
   "id": "17b4e279",
   "metadata": {},
   "outputs": [],
   "source": [
    "# Il est toujours intéressant de mettre les données en perpective en les comparant. \n",
    "# Ici, je vais comparer la distribution du CA par catégorie du mois d'octobre avec celui de janvier et de mai."
   ]
  },
  {
   "cell_type": "code",
   "execution_count": 71,
   "id": "5d8118cb",
   "metadata": {},
   "outputs": [
    {
     "data": {
      "text/html": [
       "<div>\n",
       "<style scoped>\n",
       "    .dataframe tbody tr th:only-of-type {\n",
       "        vertical-align: middle;\n",
       "    }\n",
       "\n",
       "    .dataframe tbody tr th {\n",
       "        vertical-align: top;\n",
       "    }\n",
       "\n",
       "    .dataframe thead th {\n",
       "        text-align: right;\n",
       "    }\n",
       "</style>\n",
       "<table border=\"1\" class=\"dataframe\">\n",
       "  <thead>\n",
       "    <tr style=\"text-align: right;\">\n",
       "      <th></th>\n",
       "      <th>date_month</th>\n",
       "      <th>categ</th>\n",
       "      <th>price</th>\n",
       "    </tr>\n",
       "  </thead>\n",
       "  <tbody>\n",
       "    <tr>\n",
       "      <th>6</th>\n",
       "      <td>1.0</td>\n",
       "      <td>0</td>\n",
       "      <td>10.70</td>\n",
       "    </tr>\n",
       "    <tr>\n",
       "      <th>16</th>\n",
       "      <td>1.0</td>\n",
       "      <td>1</td>\n",
       "      <td>15.59</td>\n",
       "    </tr>\n",
       "    <tr>\n",
       "      <th>18</th>\n",
       "      <td>1.0</td>\n",
       "      <td>1</td>\n",
       "      <td>15.99</td>\n",
       "    </tr>\n",
       "    <tr>\n",
       "      <th>19</th>\n",
       "      <td>1.0</td>\n",
       "      <td>0</td>\n",
       "      <td>18.99</td>\n",
       "    </tr>\n",
       "    <tr>\n",
       "      <th>69</th>\n",
       "      <td>1.0</td>\n",
       "      <td>0</td>\n",
       "      <td>3.99</td>\n",
       "    </tr>\n",
       "    <tr>\n",
       "      <th>...</th>\n",
       "      <td>...</td>\n",
       "      <td>...</td>\n",
       "      <td>...</td>\n",
       "    </tr>\n",
       "    <tr>\n",
       "      <th>313559</th>\n",
       "      <td>1.0</td>\n",
       "      <td>1</td>\n",
       "      <td>37.20</td>\n",
       "    </tr>\n",
       "    <tr>\n",
       "      <th>313603</th>\n",
       "      <td>1.0</td>\n",
       "      <td>1</td>\n",
       "      <td>15.99</td>\n",
       "    </tr>\n",
       "    <tr>\n",
       "      <th>313608</th>\n",
       "      <td>1.0</td>\n",
       "      <td>0</td>\n",
       "      <td>7.99</td>\n",
       "    </tr>\n",
       "    <tr>\n",
       "      <th>313631</th>\n",
       "      <td>1.0</td>\n",
       "      <td>2</td>\n",
       "      <td>90.99</td>\n",
       "    </tr>\n",
       "    <tr>\n",
       "      <th>313632</th>\n",
       "      <td>1.0</td>\n",
       "      <td>1</td>\n",
       "      <td>16.99</td>\n",
       "    </tr>\n",
       "  </tbody>\n",
       "</table>\n",
       "<p>27391 rows × 3 columns</p>\n",
       "</div>"
      ],
      "text/plain": [
       "        date_month  categ  price\n",
       "6              1.0      0  10.70\n",
       "16             1.0      1  15.59\n",
       "18             1.0      1  15.99\n",
       "19             1.0      0  18.99\n",
       "69             1.0      0   3.99\n",
       "...            ...    ...    ...\n",
       "313559         1.0      1  37.20\n",
       "313603         1.0      1  15.99\n",
       "313608         1.0      0   7.99\n",
       "313631         1.0      2  90.99\n",
       "313632         1.0      1  16.99\n",
       "\n",
       "[27391 rows x 3 columns]"
      ]
     },
     "execution_count": 71,
     "metadata": {},
     "output_type": "execute_result"
    }
   ],
   "source": [
    "Ca_janv=ventes[['date_month','categ','price']]\n",
    "Ca_janv_cat=Ca_janv[(Ca_janv[\"date_month\"]==1)& (Ca_janv[\"price\"])>0 & (Ca_janv[\"categ\"])]\n",
    "\n",
    "Ca_janv_cat"
   ]
  },
  {
   "cell_type": "code",
   "execution_count": 72,
   "id": "4cca6400",
   "metadata": {},
   "outputs": [
    {
     "data": {
      "text/plain": [
       "0    14395\n",
       "1    11748\n",
       "2     1248\n",
       "Name: categ, dtype: int64"
      ]
     },
     "execution_count": 72,
     "metadata": {},
     "output_type": "execute_result"
    }
   ],
   "source": [
    "Ca_janv_cat.categ.value_counts()"
   ]
  },
  {
   "cell_type": "code",
   "execution_count": 73,
   "id": "d31a404e",
   "metadata": {},
   "outputs": [
    {
     "data": {
      "image/png": "[encoded data removed]",
      "text/plain": [
       "<Figure size 432x288 with 1 Axes>"
      ]
     },
     "metadata": {},
     "output_type": "display_data"
    }
   ],
   "source": [
    "Ca_janv_cat['categ'].value_counts(normalize=True).plot(kind='pie', autopct='%1.0f%%')\n",
    "#plt.ylabel(\"\")\n",
    "plt.title(\"Répartition du CA de janvier 2021 entre les 3 catégories\")\n",
    "plt.ylabel(\"CA\")\n",
    "plt.legend()\n",
    "plt.show()"
   ]
  },
  {
   "cell_type": "code",
   "execution_count": 74,
   "id": "63b5403c",
   "metadata": {},
   "outputs": [
    {
     "data": {
      "text/html": [
       "<div>\n",
       "<style scoped>\n",
       "    .dataframe tbody tr th:only-of-type {\n",
       "        vertical-align: middle;\n",
       "    }\n",
       "\n",
       "    .dataframe tbody tr th {\n",
       "        vertical-align: top;\n",
       "    }\n",
       "\n",
       "    .dataframe thead th {\n",
       "        text-align: right;\n",
       "    }\n",
       "</style>\n",
       "<table border=\"1\" class=\"dataframe\">\n",
       "  <thead>\n",
       "    <tr style=\"text-align: right;\">\n",
       "      <th></th>\n",
       "      <th>date_month</th>\n",
       "      <th>categ</th>\n",
       "      <th>price</th>\n",
       "    </tr>\n",
       "  </thead>\n",
       "  <tbody>\n",
       "    <tr>\n",
       "      <th>34</th>\n",
       "      <td>5.0</td>\n",
       "      <td>0</td>\n",
       "      <td>4.99</td>\n",
       "    </tr>\n",
       "    <tr>\n",
       "      <th>45</th>\n",
       "      <td>5.0</td>\n",
       "      <td>1</td>\n",
       "      <td>21.99</td>\n",
       "    </tr>\n",
       "    <tr>\n",
       "      <th>46</th>\n",
       "      <td>5.0</td>\n",
       "      <td>0</td>\n",
       "      <td>9.66</td>\n",
       "    </tr>\n",
       "    <tr>\n",
       "      <th>47</th>\n",
       "      <td>5.0</td>\n",
       "      <td>0</td>\n",
       "      <td>9.66</td>\n",
       "    </tr>\n",
       "    <tr>\n",
       "      <th>53</th>\n",
       "      <td>5.0</td>\n",
       "      <td>0</td>\n",
       "      <td>7.56</td>\n",
       "    </tr>\n",
       "    <tr>\n",
       "      <th>...</th>\n",
       "      <td>...</td>\n",
       "      <td>...</td>\n",
       "      <td>...</td>\n",
       "    </tr>\n",
       "    <tr>\n",
       "      <th>313575</th>\n",
       "      <td>5.0</td>\n",
       "      <td>2</td>\n",
       "      <td>50.99</td>\n",
       "    </tr>\n",
       "    <tr>\n",
       "      <th>313581</th>\n",
       "      <td>5.0</td>\n",
       "      <td>0</td>\n",
       "      <td>11.99</td>\n",
       "    </tr>\n",
       "    <tr>\n",
       "      <th>313583</th>\n",
       "      <td>5.0</td>\n",
       "      <td>1</td>\n",
       "      <td>24.67</td>\n",
       "    </tr>\n",
       "    <tr>\n",
       "      <th>313585</th>\n",
       "      <td>5.0</td>\n",
       "      <td>2</td>\n",
       "      <td>104.06</td>\n",
       "    </tr>\n",
       "    <tr>\n",
       "      <th>313593</th>\n",
       "      <td>5.0</td>\n",
       "      <td>0</td>\n",
       "      <td>12.99</td>\n",
       "    </tr>\n",
       "  </tbody>\n",
       "</table>\n",
       "<p>26232 rows × 3 columns</p>\n",
       "</div>"
      ],
      "text/plain": [
       "        date_month  categ   price\n",
       "34             5.0      0    4.99\n",
       "45             5.0      1   21.99\n",
       "46             5.0      0    9.66\n",
       "47             5.0      0    9.66\n",
       "53             5.0      0    7.56\n",
       "...            ...    ...     ...\n",
       "313575         5.0      2   50.99\n",
       "313581         5.0      0   11.99\n",
       "313583         5.0      1   24.67\n",
       "313585         5.0      2  104.06\n",
       "313593         5.0      0   12.99\n",
       "\n",
       "[26232 rows x 3 columns]"
      ]
     },
     "execution_count": 74,
     "metadata": {},
     "output_type": "execute_result"
    }
   ],
   "source": [
    "\n",
    "Ca_mai_cat=Ca_janv[(Ca_janv[\"date_month\"]==5)& (Ca_janv[\"price\"])>0 & (Ca_janv[\"categ\"])]\n",
    "\n",
    "Ca_mai_cat"
   ]
  },
  {
   "cell_type": "code",
   "execution_count": 75,
   "id": "f10ede14",
   "metadata": {},
   "outputs": [
    {
     "data": {
      "image/png": "[encoded data removed]",
      "text/plain": [
       "<Figure size 432x288 with 1 Axes>"
      ]
     },
     "metadata": {},
     "output_type": "display_data"
    }
   ],
   "source": [
    "Ca_mai_cat['categ'].value_counts(normalize=True).plot(kind='pie', autopct='%1.0f%%')\n",
    "#plt.ylabel(\"\")\n",
    "plt.title(\"Distribution du CA par catégorie au mois de mai 2021\")\n",
    "plt.ylabel(\"CA\")\n",
    "plt.legend()\n",
    "plt.show()"
   ]
  },
  {
   "cell_type": "markdown",
   "id": "43779d61",
   "metadata": {},
   "source": [
    "####  Les trois graphiques montrent que les produits de catégorie 2 contribuent moins que ceux des autres catégories au CA global. On retrouve cette récurrence en octobre, mais on constate également que les produits de catégories 1 sont beaucoup moins nombreux pour ce dernier mois.  La baisse   du CA en octobre peut donc s'expliquer par de  faibles quantités de produits de catégories 1 et 2 et par leur faible contribution au CA du mois d'octobre 2021."
   ]
  },
  {
   "cell_type": "markdown",
   "id": "80c419c3",
   "metadata": {},
   "source": [
    "# Répartition du CA selon le sexe\n"
   ]
  },
  {
   "cell_type": "code",
   "execution_count": 76,
   "id": "3d95f7ce",
   "metadata": {},
   "outputs": [
    {
     "data": {
      "text/html": [
       "<div>\n",
       "<style scoped>\n",
       "    .dataframe tbody tr th:only-of-type {\n",
       "        vertical-align: middle;\n",
       "    }\n",
       "\n",
       "    .dataframe tbody tr th {\n",
       "        vertical-align: top;\n",
       "    }\n",
       "\n",
       "    .dataframe thead th {\n",
       "        text-align: right;\n",
       "    }\n",
       "</style>\n",
       "<table border=\"1\" class=\"dataframe\">\n",
       "  <thead>\n",
       "    <tr style=\"text-align: right;\">\n",
       "      <th></th>\n",
       "      <th>sex</th>\n",
       "      <th>client_id</th>\n",
       "      <th>price</th>\n",
       "    </tr>\n",
       "  </thead>\n",
       "  <tbody>\n",
       "    <tr>\n",
       "      <th>0</th>\n",
       "      <td>f</td>\n",
       "      <td>c_1000</td>\n",
       "      <td>980.02</td>\n",
       "    </tr>\n",
       "    <tr>\n",
       "      <th>1</th>\n",
       "      <td>f</td>\n",
       "      <td>c_1002</td>\n",
       "      <td>298.65</td>\n",
       "    </tr>\n",
       "    <tr>\n",
       "      <th>2</th>\n",
       "      <td>f</td>\n",
       "      <td>c_1005</td>\n",
       "      <td>476.67</td>\n",
       "    </tr>\n",
       "    <tr>\n",
       "      <th>3</th>\n",
       "      <td>f</td>\n",
       "      <td>c_1007</td>\n",
       "      <td>299.34</td>\n",
       "    </tr>\n",
       "    <tr>\n",
       "      <th>4</th>\n",
       "      <td>f</td>\n",
       "      <td>c_1009</td>\n",
       "      <td>298.64</td>\n",
       "    </tr>\n",
       "    <tr>\n",
       "      <th>...</th>\n",
       "      <td>...</td>\n",
       "      <td>...</td>\n",
       "      <td>...</td>\n",
       "    </tr>\n",
       "    <tr>\n",
       "      <th>8591</th>\n",
       "      <td>m</td>\n",
       "      <td>c_991</td>\n",
       "      <td>326.41</td>\n",
       "    </tr>\n",
       "    <tr>\n",
       "      <th>8592</th>\n",
       "      <td>m</td>\n",
       "      <td>c_993</td>\n",
       "      <td>217.85</td>\n",
       "    </tr>\n",
       "    <tr>\n",
       "      <th>8593</th>\n",
       "      <td>m</td>\n",
       "      <td>c_995</td>\n",
       "      <td>119.08</td>\n",
       "    </tr>\n",
       "    <tr>\n",
       "      <th>8594</th>\n",
       "      <td>m</td>\n",
       "      <td>c_998</td>\n",
       "      <td>1527.69</td>\n",
       "    </tr>\n",
       "    <tr>\n",
       "      <th>8595</th>\n",
       "      <td>m</td>\n",
       "      <td>c_999</td>\n",
       "      <td>305.00</td>\n",
       "    </tr>\n",
       "  </tbody>\n",
       "</table>\n",
       "<p>8596 rows × 3 columns</p>\n",
       "</div>"
      ],
      "text/plain": [
       "     sex client_id    price\n",
       "0      f    c_1000   980.02\n",
       "1      f    c_1002   298.65\n",
       "2      f    c_1005   476.67\n",
       "3      f    c_1007   299.34\n",
       "4      f    c_1009   298.64\n",
       "...   ..       ...      ...\n",
       "8591   m     c_991   326.41\n",
       "8592   m     c_993   217.85\n",
       "8593   m     c_995   119.08\n",
       "8594   m     c_998  1527.69\n",
       "8595   m     c_999   305.00\n",
       "\n",
       "[8596 rows x 3 columns]"
      ]
     },
     "execution_count": 76,
     "metadata": {},
     "output_type": "execute_result"
    }
   ],
   "source": [
    "ca_sex=ventes.groupby([\"sex\",\"client_id\"]).agg({\"price\":\"sum\"})\n",
    "ca_sex.reset_index()"
   ]
  },
  {
   "cell_type": "code",
   "execution_count": 77,
   "id": "11439676",
   "metadata": {
    "scrolled": true
   },
   "outputs": [
    {
     "data": {
      "text/plain": [
       "<function matplotlib.pyplot.show(close=None, block=None)>"
      ]
     },
     "execution_count": 77,
     "metadata": {},
     "output_type": "execute_result"
    },
    {
     "data": {
      "image/png": "[encoded data removed]",
      "text/plain": [
       "<Figure size 432x288 with 2 Axes>"
      ]
     },
     "metadata": {
      "needs_background": "light"
     },
     "output_type": "display_data"
    }
   ],
   "source": [
    "ca_sex.hist(by=\"sex\",bins = 60)\n",
    "plt.title(\" Distribution du CA selon le sexe en 2021-2022 \")\n",
    "plt.xlabel(\"CA\")\n",
    "plt.ylabel(\"Nb de personnes\")\n",
    "\n",
    "plt.show\n"
   ]
  },
  {
   "cell_type": "markdown",
   "id": "2c1836ad",
   "metadata": {},
   "source": [
    "#### pour confirmer ce résultat, la boxplot suivante permet de voir les chiffres sur un autre angle et de confirmer ce que montre l'histogramme de distribution du CA selon le sexe, soit une faible différence de CA entre femmes et hommes. \n"
   ]
  },
  {
   "cell_type": "code",
   "execution_count": 78,
   "id": "c09182dd",
   "metadata": {
    "scrolled": true
   },
   "outputs": [
    {
     "data": {
      "image/png": "[encoded data removed]",
      "text/plain": [
       "<Figure size 432x288 with 1 Axes>"
      ]
     },
     "metadata": {
      "needs_background": "light"
     },
     "output_type": "display_data"
    }
   ],
   "source": [
    "#Nous avons deux variables: l'une quantitative et l'autre qualitative et nous voulons observer la répartition de\n",
    "#l'une sur lautre. La boîte à moustache convient pour représenter la distribution de l'une sur l'autre\n",
    "sns.boxplot(data=ventes, x=ventes[\"sex\"], y=ventes[\"price\"], palette=\"PuBu_r\")\n",
    "plt.title(\"Distribution du CA selon le sexe en 2021-2022\")\n",
    "plt.ylabel(\"Prix\")\n",
    "\n",
    "plt.show()"
   ]
  },
  {
   "cell_type": "markdown",
   "id": "c97c4398",
   "metadata": {},
   "source": [
    "# Répartition du ca annuel selon la catégorie de produit"
   ]
  },
  {
   "cell_type": "code",
   "execution_count": 79,
   "id": "ad672556",
   "metadata": {},
   "outputs": [
    {
     "data": {
      "text/plain": [
       "0    195270\n",
       "1    102625\n",
       "2     15756\n",
       "Name: categ, dtype: int64"
      ]
     },
     "execution_count": 79,
     "metadata": {},
     "output_type": "execute_result"
    }
   ],
   "source": [
    "#nombre de produits par catégorie  \n",
    "ventes.categ.value_counts()"
   ]
  },
  {
   "cell_type": "code",
   "execution_count": 80,
   "id": "0c74af59",
   "metadata": {
    "scrolled": true
   },
   "outputs": [
    {
     "data": {
      "image/png": "[encoded data removed]",
      "text/plain": [
       "<Figure size 432x288 with 1 Axes>"
      ]
     },
     "metadata": {},
     "output_type": "display_data"
    }
   ],
   "source": [
    "ventes['categ'].value_counts(normalize=True).plot(kind='pie',autopct='%.2f')\n",
    "plt.tick_params(axis = 'both', which = 'major', labelsize = 30)\n",
    "plt.xlabel(\"categ\")\n",
    "plt.ylabel(\"CA\")\n",
    "plt.title(\"Répartition  du CA annuel par catégorie de produit 2021-2022\")\n",
    "plt.legend()\n",
    "\n",
    "plt.show()"
   ]
  },
  {
   "cell_type": "markdown",
   "id": "a36f0f91",
   "metadata": {},
   "source": [
    "#### Forte concentation du CA dans les produits de catég 0. \n",
    "#### Très faible concentration du CA dans les produits de catég 2. \n",
    "#### Cette partition est cohérente avec lle nombre de produits par catégorie.\n",
    "#### La première (categ 0) concentre à elle seule plus de  60% du CA.\n"
   ]
  },
  {
   "cell_type": "code",
   "execution_count": 81,
   "id": "04c2bf86",
   "metadata": {},
   "outputs": [],
   "source": [
    "#  Variation du prix par catégorie de produit"
   ]
  },
  {
   "cell_type": "code",
   "execution_count": 82,
   "id": "b124fdea",
   "metadata": {},
   "outputs": [
    {
     "data": {
      "text/html": [
       "<div>\n",
       "<style scoped>\n",
       "    .dataframe tbody tr th:only-of-type {\n",
       "        vertical-align: middle;\n",
       "    }\n",
       "\n",
       "    .dataframe tbody tr th {\n",
       "        vertical-align: top;\n",
       "    }\n",
       "\n",
       "    .dataframe thead th {\n",
       "        text-align: right;\n",
       "    }\n",
       "</style>\n",
       "<table border=\"1\" class=\"dataframe\">\n",
       "  <thead>\n",
       "    <tr style=\"text-align: right;\">\n",
       "      <th></th>\n",
       "      <th>categ</th>\n",
       "      <th>price</th>\n",
       "    </tr>\n",
       "  </thead>\n",
       "  <tbody>\n",
       "    <tr>\n",
       "      <th>0</th>\n",
       "      <td>0</td>\n",
       "      <td>2.078793e+06</td>\n",
       "    </tr>\n",
       "    <tr>\n",
       "      <th>1</th>\n",
       "      <td>1</td>\n",
       "      <td>2.101585e+06</td>\n",
       "    </tr>\n",
       "    <tr>\n",
       "      <th>2</th>\n",
       "      <td>2</td>\n",
       "      <td>1.183483e+06</td>\n",
       "    </tr>\n",
       "  </tbody>\n",
       "</table>\n",
       "</div>"
      ],
      "text/plain": [
       "   categ         price\n",
       "0      0  2.078793e+06\n",
       "1      1  2.101585e+06\n",
       "2      2  1.183483e+06"
      ]
     },
     "execution_count": 82,
     "metadata": {},
     "output_type": "execute_result"
    }
   ],
   "source": [
    "#Création d'une table prix_categ\n",
    "\n",
    "prix_categ=ventes[[\"categ\",\"price\"]]\n",
    "prix_categ_1=prix_categ.groupby([\"categ\"]).agg({\"price\":\"sum\"})\n",
    "prix_categ_1.reset_index()"
   ]
  },
  {
   "cell_type": "code",
   "execution_count": 83,
   "id": "949a57ed",
   "metadata": {},
   "outputs": [
    {
     "data": {
      "text/html": [
       "<div>\n",
       "<style scoped>\n",
       "    .dataframe tbody tr th:only-of-type {\n",
       "        vertical-align: middle;\n",
       "    }\n",
       "\n",
       "    .dataframe tbody tr th {\n",
       "        vertical-align: top;\n",
       "    }\n",
       "\n",
       "    .dataframe thead th {\n",
       "        text-align: right;\n",
       "    }\n",
       "</style>\n",
       "<table border=\"1\" class=\"dataframe\">\n",
       "  <thead>\n",
       "    <tr style=\"text-align: right;\">\n",
       "      <th></th>\n",
       "      <th>categ</th>\n",
       "      <th>price</th>\n",
       "    </tr>\n",
       "  </thead>\n",
       "  <tbody>\n",
       "    <tr>\n",
       "      <th>0</th>\n",
       "      <td>0</td>\n",
       "      <td>4.99</td>\n",
       "    </tr>\n",
       "    <tr>\n",
       "      <th>1</th>\n",
       "      <td>0</td>\n",
       "      <td>3.99</td>\n",
       "    </tr>\n",
       "    <tr>\n",
       "      <th>2</th>\n",
       "      <td>0</td>\n",
       "      <td>7.99</td>\n",
       "    </tr>\n",
       "    <tr>\n",
       "      <th>3</th>\n",
       "      <td>0</td>\n",
       "      <td>4.99</td>\n",
       "    </tr>\n",
       "    <tr>\n",
       "      <th>4</th>\n",
       "      <td>0</td>\n",
       "      <td>6.30</td>\n",
       "    </tr>\n",
       "    <tr>\n",
       "      <th>...</th>\n",
       "      <td>...</td>\n",
       "      <td>...</td>\n",
       "    </tr>\n",
       "    <tr>\n",
       "      <th>313646</th>\n",
       "      <td>0</td>\n",
       "      <td>8.99</td>\n",
       "    </tr>\n",
       "    <tr>\n",
       "      <th>313647</th>\n",
       "      <td>0</td>\n",
       "      <td>13.36</td>\n",
       "    </tr>\n",
       "    <tr>\n",
       "      <th>313648</th>\n",
       "      <td>2</td>\n",
       "      <td>102.82</td>\n",
       "    </tr>\n",
       "    <tr>\n",
       "      <th>313649</th>\n",
       "      <td>2</td>\n",
       "      <td>189.99</td>\n",
       "    </tr>\n",
       "    <tr>\n",
       "      <th>313650</th>\n",
       "      <td>0</td>\n",
       "      <td>19.85</td>\n",
       "    </tr>\n",
       "  </tbody>\n",
       "</table>\n",
       "<p>313651 rows × 2 columns</p>\n",
       "</div>"
      ],
      "text/plain": [
       "        categ   price\n",
       "0           0    4.99\n",
       "1           0    3.99\n",
       "2           0    7.99\n",
       "3           0    4.99\n",
       "4           0    6.30\n",
       "...       ...     ...\n",
       "313646      0    8.99\n",
       "313647      0   13.36\n",
       "313648      2  102.82\n",
       "313649      2  189.99\n",
       "313650      0   19.85\n",
       "\n",
       "[313651 rows x 2 columns]"
      ]
     },
     "execution_count": 83,
     "metadata": {},
     "output_type": "execute_result"
    }
   ],
   "source": [
    "prix_categ"
   ]
  },
  {
   "cell_type": "code",
   "execution_count": 84,
   "id": "66130b16",
   "metadata": {},
   "outputs": [
    {
     "data": {
      "image/png": "[encoded data removed]",
      "text/plain": [
       "<Figure size 432x288 with 1 Axes>"
      ]
     },
     "metadata": {
      "needs_background": "light"
     },
     "output_type": "display_data"
    }
   ],
   "source": [
    "sns.boxplot( data=ventes,x=ventes[\"categ\"], y=ventes[\"price\"],  palette=\"PuBu_r\")\n",
    "plt.title(\"Variation du prix selon la catégorie en 2021-2022\")\n",
    "plt.ylabel(\"Prix\")\n",
    "\n",
    "plt.show()"
   ]
  },
  {
   "cell_type": "markdown",
   "id": "45cb372a",
   "metadata": {},
   "source": [
    "#### Le lien entre la catégorie de produit et le prix est manifeste. Plus la catégorie est élevée, plus le prix l'est ."
   ]
  },
  {
   "cell_type": "markdown",
   "id": "34a3149e",
   "metadata": {},
   "source": [
    "### Distribution de la fréquence des achats"
   ]
  },
  {
   "cell_type": "code",
   "execution_count": 85,
   "id": "431fcfe5",
   "metadata": {},
   "outputs": [
    {
     "data": {
      "text/plain": [
       "<function matplotlib.pyplot.show(close=None, block=None)>"
      ]
     },
     "execution_count": 85,
     "metadata": {},
     "output_type": "execute_result"
    },
    {
     "data": {
      "image/png": "[encoded data removed]",
      "text/plain": [
       "<Figure size 432x288 with 1 Axes>"
      ]
     },
     "metadata": {
      "needs_background": "light"
     },
     "output_type": "display_data"
    }
   ],
   "source": [
    "ventes['client_id'].value_counts().hist(bins = 60)\n",
    "plt.title(\" Distribution de la Fréquence des achats en 2021-2022\")\n",
    "plt.xlabel(\"Nombre d'achats\")\n",
    "plt.ylabel(\"Nombre de clients\")\n",
    "plt.show"
   ]
  },
  {
   "cell_type": "markdown",
   "id": "f31de1d7",
   "metadata": {},
   "source": [
    "#### La distribution de la fréquence des achats est assymétrique.\n",
    "#### Il y a une plus forte concentration de clients dans l'achat de produits dont le prix est < à 30€ . \n",
    "#### Le nombre de clients décroit en même temps que le prix des produits augmente. "
   ]
  },
  {
   "cell_type": "markdown",
   "id": "c704c314",
   "metadata": {},
   "source": [
    "### Relation entre l'âge et le prix du produit  "
   ]
  },
  {
   "cell_type": "code",
   "execution_count": 86,
   "id": "e4147720",
   "metadata": {},
   "outputs": [
    {
     "name": "stdout",
     "output_type": "stream",
     "text": [
      "-0.1990199383847287\n"
     ]
    },
    {
     "data": {
      "image/png": "[encoded data removed]",
      "text/plain": [
       "<Figure size 432x288 with 1 Axes>"
      ]
     },
     "metadata": {
      "needs_background": "light"
     },
     "output_type": "display_data"
    }
   ],
   "source": [
    "sns.regplot(x=ventes[\"age\"], y=ventes[\"price\"], ci = None,scatter_kws = {\"color\": \"green\"})\n",
    "plt.title(\"Relation entre l'âge et le prix du produit en 2021-2022\")\n",
    "plt.xlabel(\"Age\")\n",
    "plt.ylabel(\"prix_produit\")\n",
    "print(st.pearsonr(ventes[\"price\"], ventes[\"age\"])[0])"
   ]
  },
  {
   "cell_type": "markdown",
   "id": "308ce60e",
   "metadata": {},
   "source": [
    "#### Les plus jeunes clients [17-30] sont pésents sur une large game de prix, une minorité se distingue en se\n",
    "#### situant dans les produits les plus couteux, ceux à 300€.\n",
    "\n",
    "#### Concentration des clients âgés de plus de 30 ans sur les produits dont le prix sont < 100€. Pour les produits dont le prix est >100€, il\n",
    "#### s'opère une dispersion de ces clients. La majorité d'entre eux achète les produits les moins coûteux. "
   ]
  },
  {
   "cell_type": "markdown",
   "id": "842ae32a",
   "metadata": {},
   "source": [
    "### Distribution des prix entre les produits"
   ]
  },
  {
   "cell_type": "code",
   "execution_count": 87,
   "id": "9eb697e9",
   "metadata": {},
   "outputs": [
    {
     "data": {
      "text/html": [
       "<div>\n",
       "<style scoped>\n",
       "    .dataframe tbody tr th:only-of-type {\n",
       "        vertical-align: middle;\n",
       "    }\n",
       "\n",
       "    .dataframe tbody tr th {\n",
       "        vertical-align: top;\n",
       "    }\n",
       "\n",
       "    .dataframe thead th {\n",
       "        text-align: right;\n",
       "    }\n",
       "</style>\n",
       "<table border=\"1\" class=\"dataframe\">\n",
       "  <thead>\n",
       "    <tr style=\"text-align: right;\">\n",
       "      <th></th>\n",
       "      <th>id_prod</th>\n",
       "      <th>date</th>\n",
       "      <th>session_id</th>\n",
       "      <th>client_id</th>\n",
       "      <th>date1</th>\n",
       "      <th>date_year</th>\n",
       "      <th>date_month</th>\n",
       "      <th>price</th>\n",
       "      <th>categ</th>\n",
       "      <th>sex</th>\n",
       "      <th>birth</th>\n",
       "      <th>age</th>\n",
       "    </tr>\n",
       "  </thead>\n",
       "  <tbody>\n",
       "    <tr>\n",
       "      <th>0</th>\n",
       "      <td>0_1483</td>\n",
       "      <td>2021-04-10</td>\n",
       "      <td>s_18746</td>\n",
       "      <td>c_4450</td>\n",
       "      <td>10/04/2021</td>\n",
       "      <td>2021.0</td>\n",
       "      <td>4.0</td>\n",
       "      <td>4.99</td>\n",
       "      <td>0</td>\n",
       "      <td>f</td>\n",
       "      <td>1977</td>\n",
       "      <td>45</td>\n",
       "    </tr>\n",
       "    <tr>\n",
       "      <th>1</th>\n",
       "      <td>0_1085</td>\n",
       "      <td>2021-09-29</td>\n",
       "      <td>s_97382</td>\n",
       "      <td>c_4450</td>\n",
       "      <td>29/09/2021</td>\n",
       "      <td>2021.0</td>\n",
       "      <td>9.0</td>\n",
       "      <td>3.99</td>\n",
       "      <td>0</td>\n",
       "      <td>f</td>\n",
       "      <td>1977</td>\n",
       "      <td>45</td>\n",
       "    </tr>\n",
       "    <tr>\n",
       "      <th>2</th>\n",
       "      <td>0_1453</td>\n",
       "      <td>2021-08-27</td>\n",
       "      <td>s_81509</td>\n",
       "      <td>c_4450</td>\n",
       "      <td>27/08/2021</td>\n",
       "      <td>2021.0</td>\n",
       "      <td>8.0</td>\n",
       "      <td>7.99</td>\n",
       "      <td>0</td>\n",
       "      <td>f</td>\n",
       "      <td>1977</td>\n",
       "      <td>45</td>\n",
       "    </tr>\n",
       "    <tr>\n",
       "      <th>3</th>\n",
       "      <td>0_1405</td>\n",
       "      <td>2021-08-27</td>\n",
       "      <td>s_81509</td>\n",
       "      <td>c_4450</td>\n",
       "      <td>27/08/2021</td>\n",
       "      <td>2021.0</td>\n",
       "      <td>8.0</td>\n",
       "      <td>4.99</td>\n",
       "      <td>0</td>\n",
       "      <td>f</td>\n",
       "      <td>1977</td>\n",
       "      <td>45</td>\n",
       "    </tr>\n",
       "    <tr>\n",
       "      <th>4</th>\n",
       "      <td>0_1392</td>\n",
       "      <td>2021-12-28</td>\n",
       "      <td>s_141302</td>\n",
       "      <td>c_4450</td>\n",
       "      <td>28/12/2021</td>\n",
       "      <td>2021.0</td>\n",
       "      <td>12.0</td>\n",
       "      <td>6.30</td>\n",
       "      <td>0</td>\n",
       "      <td>f</td>\n",
       "      <td>1977</td>\n",
       "      <td>45</td>\n",
       "    </tr>\n",
       "    <tr>\n",
       "      <th>...</th>\n",
       "      <td>...</td>\n",
       "      <td>...</td>\n",
       "      <td>...</td>\n",
       "      <td>...</td>\n",
       "      <td>...</td>\n",
       "      <td>...</td>\n",
       "      <td>...</td>\n",
       "      <td>...</td>\n",
       "      <td>...</td>\n",
       "      <td>...</td>\n",
       "      <td>...</td>\n",
       "      <td>...</td>\n",
       "    </tr>\n",
       "    <tr>\n",
       "      <th>313646</th>\n",
       "      <td>0_2075</td>\n",
       "      <td>2021-10-09</td>\n",
       "      <td>s_102200</td>\n",
       "      <td>c_2793</td>\n",
       "      <td>09/10/2021</td>\n",
       "      <td>2021.0</td>\n",
       "      <td>10.0</td>\n",
       "      <td>8.99</td>\n",
       "      <td>0</td>\n",
       "      <td>m</td>\n",
       "      <td>1933</td>\n",
       "      <td>89</td>\n",
       "    </tr>\n",
       "    <tr>\n",
       "      <th>313647</th>\n",
       "      <td>0_1692</td>\n",
       "      <td>2021-09-15</td>\n",
       "      <td>s_90430</td>\n",
       "      <td>c_4478</td>\n",
       "      <td>15/09/2021</td>\n",
       "      <td>2021.0</td>\n",
       "      <td>9.0</td>\n",
       "      <td>13.36</td>\n",
       "      <td>0</td>\n",
       "      <td>f</td>\n",
       "      <td>1970</td>\n",
       "      <td>52</td>\n",
       "    </tr>\n",
       "    <tr>\n",
       "      <th>313648</th>\n",
       "      <td>2_162</td>\n",
       "      <td>2021-06-03</td>\n",
       "      <td>s_43342</td>\n",
       "      <td>c_755</td>\n",
       "      <td>03/06/2021</td>\n",
       "      <td>2021.0</td>\n",
       "      <td>6.0</td>\n",
       "      <td>102.82</td>\n",
       "      <td>2</td>\n",
       "      <td>f</td>\n",
       "      <td>1996</td>\n",
       "      <td>26</td>\n",
       "    </tr>\n",
       "    <tr>\n",
       "      <th>313649</th>\n",
       "      <td>2_213</td>\n",
       "      <td>2021-12-31</td>\n",
       "      <td>s_142586</td>\n",
       "      <td>c_755</td>\n",
       "      <td>31/12/2021</td>\n",
       "      <td>2021.0</td>\n",
       "      <td>12.0</td>\n",
       "      <td>189.99</td>\n",
       "      <td>2</td>\n",
       "      <td>f</td>\n",
       "      <td>1996</td>\n",
       "      <td>26</td>\n",
       "    </tr>\n",
       "    <tr>\n",
       "      <th>313650</th>\n",
       "      <td>0_142</td>\n",
       "      <td>2021-09-25</td>\n",
       "      <td>s_95415</td>\n",
       "      <td>c_1232</td>\n",
       "      <td>25/09/2021</td>\n",
       "      <td>2021.0</td>\n",
       "      <td>9.0</td>\n",
       "      <td>19.85</td>\n",
       "      <td>0</td>\n",
       "      <td>f</td>\n",
       "      <td>1960</td>\n",
       "      <td>62</td>\n",
       "    </tr>\n",
       "  </tbody>\n",
       "</table>\n",
       "<p>313651 rows × 12 columns</p>\n",
       "</div>"
      ],
      "text/plain": [
       "       id_prod       date session_id client_id       date1  date_year  \\\n",
       "0       0_1483 2021-04-10    s_18746    c_4450  10/04/2021     2021.0   \n",
       "1       0_1085 2021-09-29    s_97382    c_4450  29/09/2021     2021.0   \n",
       "2       0_1453 2021-08-27    s_81509    c_4450  27/08/2021     2021.0   \n",
       "3       0_1405 2021-08-27    s_81509    c_4450  27/08/2021     2021.0   \n",
       "4       0_1392 2021-12-28   s_141302    c_4450  28/12/2021     2021.0   \n",
       "...        ...        ...        ...       ...         ...        ...   \n",
       "313646  0_2075 2021-10-09   s_102200    c_2793  09/10/2021     2021.0   \n",
       "313647  0_1692 2021-09-15    s_90430    c_4478  15/09/2021     2021.0   \n",
       "313648   2_162 2021-06-03    s_43342     c_755  03/06/2021     2021.0   \n",
       "313649   2_213 2021-12-31   s_142586     c_755  31/12/2021     2021.0   \n",
       "313650   0_142 2021-09-25    s_95415    c_1232  25/09/2021     2021.0   \n",
       "\n",
       "        date_month   price  categ sex  birth  age  \n",
       "0              4.0    4.99      0   f   1977   45  \n",
       "1              9.0    3.99      0   f   1977   45  \n",
       "2              8.0    7.99      0   f   1977   45  \n",
       "3              8.0    4.99      0   f   1977   45  \n",
       "4             12.0    6.30      0   f   1977   45  \n",
       "...            ...     ...    ...  ..    ...  ...  \n",
       "313646        10.0    8.99      0   m   1933   89  \n",
       "313647         9.0   13.36      0   f   1970   52  \n",
       "313648         6.0  102.82      2   f   1996   26  \n",
       "313649        12.0  189.99      2   f   1996   26  \n",
       "313650         9.0   19.85      0   f   1960   62  \n",
       "\n",
       "[313651 rows x 12 columns]"
      ]
     },
     "execution_count": 87,
     "metadata": {},
     "output_type": "execute_result"
    }
   ],
   "source": [
    "#Transformation de la table ventes en dataframe\n",
    "pd.DataFrame(ventes)"
   ]
  },
  {
   "cell_type": "code",
   "execution_count": 88,
   "id": "17c23d58",
   "metadata": {
    "scrolled": true
   },
   "outputs": [
    {
     "data": {
      "image/png": "[encoded data removed]",
      "text/plain": [
       "<Figure size 432x288 with 1 Axes>"
      ]
     },
     "metadata": {
      "needs_background": "light"
     },
     "output_type": "display_data"
    }
   ],
   "source": [
    "produit = ventes[ventes['price']>0]\n",
    "produit_prix = produit['price'].values\n",
    "nb_produit_prix = len(produit_prix)\n",
    "plt.title(\"Courbe de Lorentz produit prix en 2021-2022\")\n",
    "\n",
    "C_de_L = np.cumsum(np.sort(produit_prix)) / produit_prix.sum()\n",
    "C_de_L = np.append([0],C_de_L) # La courbe de Lorenz commence à 0\n",
    "xaxis = np.linspace(0-1/nb_produit_prix,1+1/nb_produit_prix,nb_produit_prix+1)#Il y a un segment de taille n pour chaque individu, plus 1 segment \n",
    "#supplémentaire d'ordonnée 0. Le premier segment commence à 0-1/n, et le dernier termine à 1+1/n.\n",
    "#plt.plot(xaxis,lorenz,drawstyle='steps-post')\n",
    "\n",
    "bs = [0.0, 1.0]# bissectrice\n",
    "plt.plot(bs)\n",
    "plt.fill_between(np.linspace(0,1,len(C_de_L)), C_de_L)\n",
    "\n",
    "ssc = (C_de_L.sum() -C_de_L[-1]/2 -C_de_L[0]/2)/nb_produit_prix # Surface sous la courbe de Lorenz. \n",
    "#Le premier segment (C_de_L[0]) est à 0,5 en dessous de 0, on le coupe donc en 2, \n",
    "#on fait la même chose pour le dernier segment de la courbe de lorenz[-1] qui est à 0,5 au dessus de 1.\n",
    "esp_entre = 0.5 - ssc # surface entre la bissectrice et la courbe de Lorenz\n",
    "gini = round(2*esp_entre,2)\n",
    "plt.text(0.1,0.5,\"Gini =\"+ str(gini))\n",
    "\n",
    "plt.show()"
   ]
  },
  {
   "cell_type": "markdown",
   "id": "cee6ca79",
   "metadata": {},
   "source": [
    "#### Le coeficient de gini est assez éloigné de 1, il y a donc une inégale distribution des prix entre les produits. "
   ]
  },
  {
   "cell_type": "markdown",
   "id": "17daf70c",
   "metadata": {},
   "source": [
    "# Mission 3"
   ]
  },
  {
   "cell_type": "markdown",
   "id": "3f880759",
   "metadata": {},
   "source": [
    "### Relation entre l'âge et la fréquence d’achat  "
   ]
  },
  {
   "cell_type": "code",
   "execution_count": 89,
   "id": "3ad56b2f",
   "metadata": {},
   "outputs": [
    {
     "data": {
      "text/html": [
       "<div>\n",
       "<style scoped>\n",
       "    .dataframe tbody tr th:only-of-type {\n",
       "        vertical-align: middle;\n",
       "    }\n",
       "\n",
       "    .dataframe tbody tr th {\n",
       "        vertical-align: top;\n",
       "    }\n",
       "\n",
       "    .dataframe thead th {\n",
       "        text-align: right;\n",
       "    }\n",
       "</style>\n",
       "<table border=\"1\" class=\"dataframe\">\n",
       "  <thead>\n",
       "    <tr style=\"text-align: right;\">\n",
       "      <th></th>\n",
       "      <th>client_id</th>\n",
       "      <th>age</th>\n",
       "    </tr>\n",
       "  </thead>\n",
       "  <tbody>\n",
       "    <tr>\n",
       "      <th>0</th>\n",
       "      <td>c_4450</td>\n",
       "      <td>45</td>\n",
       "    </tr>\n",
       "    <tr>\n",
       "      <th>1</th>\n",
       "      <td>c_4450</td>\n",
       "      <td>45</td>\n",
       "    </tr>\n",
       "    <tr>\n",
       "      <th>2</th>\n",
       "      <td>c_4450</td>\n",
       "      <td>45</td>\n",
       "    </tr>\n",
       "    <tr>\n",
       "      <th>3</th>\n",
       "      <td>c_4450</td>\n",
       "      <td>45</td>\n",
       "    </tr>\n",
       "    <tr>\n",
       "      <th>4</th>\n",
       "      <td>c_4450</td>\n",
       "      <td>45</td>\n",
       "    </tr>\n",
       "    <tr>\n",
       "      <th>...</th>\n",
       "      <td>...</td>\n",
       "      <td>...</td>\n",
       "    </tr>\n",
       "    <tr>\n",
       "      <th>313646</th>\n",
       "      <td>c_2793</td>\n",
       "      <td>89</td>\n",
       "    </tr>\n",
       "    <tr>\n",
       "      <th>313647</th>\n",
       "      <td>c_4478</td>\n",
       "      <td>52</td>\n",
       "    </tr>\n",
       "    <tr>\n",
       "      <th>313648</th>\n",
       "      <td>c_755</td>\n",
       "      <td>26</td>\n",
       "    </tr>\n",
       "    <tr>\n",
       "      <th>313649</th>\n",
       "      <td>c_755</td>\n",
       "      <td>26</td>\n",
       "    </tr>\n",
       "    <tr>\n",
       "      <th>313650</th>\n",
       "      <td>c_1232</td>\n",
       "      <td>62</td>\n",
       "    </tr>\n",
       "  </tbody>\n",
       "</table>\n",
       "<p>313651 rows × 2 columns</p>\n",
       "</div>"
      ],
      "text/plain": [
       "       client_id  age\n",
       "0         c_4450   45\n",
       "1         c_4450   45\n",
       "2         c_4450   45\n",
       "3         c_4450   45\n",
       "4         c_4450   45\n",
       "...          ...  ...\n",
       "313646    c_2793   89\n",
       "313647    c_4478   52\n",
       "313648     c_755   26\n",
       "313649     c_755   26\n",
       "313650    c_1232   62\n",
       "\n",
       "[313651 rows x 2 columns]"
      ]
     },
     "execution_count": 89,
     "metadata": {},
     "output_type": "execute_result"
    }
   ],
   "source": [
    "# création table âge \n",
    "age=ventes[[\"client_id\",\"age\"]]\n",
    "age"
   ]
  },
  {
   "cell_type": "code",
   "execution_count": 90,
   "id": "8354424e",
   "metadata": {},
   "outputs": [
    {
     "data": {
      "text/plain": [
       "count    157808.000000\n",
       "mean          1.987548\n",
       "std           1.272775\n",
       "min           1.000000\n",
       "25%           1.000000\n",
       "50%           2.000000\n",
       "75%           3.000000\n",
       "max          14.000000\n",
       "Name: session_id, dtype: float64"
      ]
     },
     "execution_count": 90,
     "metadata": {},
     "output_type": "execute_result"
    }
   ],
   "source": [
    "#Fréquence des achats par âge \n",
    "freq_achat=ventes[[\"age\",\"session_id\"]]\n",
    "freq_achat['session_id'].value_counts().describe()"
   ]
  },
  {
   "cell_type": "code",
   "execution_count": 91,
   "id": "6c8c6441",
   "metadata": {},
   "outputs": [],
   "source": [
    "#frequence achat client \n",
    "freq_achat = pd.crosstab(index = ventes[\"client_id\"], columns=\"total\")\n",
    "freq_achat= pd.merge(freq_achat,age,left_on=\"client_id\", right_on=\"client_id\")"
   ]
  },
  {
   "cell_type": "code",
   "execution_count": 92,
   "id": "ce14b473",
   "metadata": {
    "scrolled": true
   },
   "outputs": [
    {
     "data": {
      "text/plain": [
       "Text(0.5, 0, 'Age')"
      ]
     },
     "execution_count": 92,
     "metadata": {},
     "output_type": "execute_result"
    },
    {
     "data": {
      "image/png": "[encoded data removed]",
      "text/plain": [
       "<Figure size 432x288 with 1 Axes>"
      ]
     },
     "metadata": {
      "needs_background": "light"
     },
     "output_type": "display_data"
    }
   ],
   "source": [
    "#Représentation graphique de la relation âge et fréquence d'achat\n",
    "sns.regplot(y=freq_achat[\"total\"], x=freq_achat[\"age\"],ci = None,scatter_kws = {\"color\": \"b\"})\n",
    "plt.title(\"Graphique s: Relation entre âge et fréquence d'achat en 2021-2022\")\n",
    "plt.ylabel(\"Fréquence\")\n",
    "plt.xlabel(\"Age\")"
   ]
  },
  {
   "cell_type": "code",
   "execution_count": 93,
   "id": "2fff31aa",
   "metadata": {},
   "outputs": [
    {
     "name": "stdout",
     "output_type": "stream",
     "text": [
      "-0.11608681317122682\n"
     ]
    }
   ],
   "source": [
    "#Test de Pearson \n",
    "print(st.pearsonr(freq_achat[\"total\"], freq_achat[\"age\"])[0])\n"
   ]
  },
  {
   "cell_type": "code",
   "execution_count": 94,
   "id": "d6e2ff4b",
   "metadata": {},
   "outputs": [
    {
     "name": "stdout",
     "output_type": "stream",
     "text": [
      "0.0\n"
     ]
    }
   ],
   "source": [
    "print(st.pearsonr(freq_achat[\"total\"], freq_achat[\"age\"])[1])"
   ]
  },
  {
   "cell_type": "markdown",
   "id": "17f8831c",
   "metadata": {},
   "source": [
    "#### le coefficient de pearson est négatif soit, -0.11608681317122682 . Cela traduit une  faible correlation  entre les variables âge et fréquence. La p. value <  0, 05,  permet de rejetter l'hypothèse H0, il y a donc un lien statistique entre les deux variables"
   ]
  },
  {
   "cell_type": "markdown",
   "id": "8f8e88f5",
   "metadata": {},
   "source": [
    "### Relation entre le sexe et la catégorie de produit"
   ]
  },
  {
   "cell_type": "code",
   "execution_count": 95,
   "id": "7301ff51",
   "metadata": {},
   "outputs": [
    {
     "data": {
      "text/html": [
       "<div>\n",
       "<style scoped>\n",
       "    .dataframe tbody tr th:only-of-type {\n",
       "        vertical-align: middle;\n",
       "    }\n",
       "\n",
       "    .dataframe tbody tr th {\n",
       "        vertical-align: top;\n",
       "    }\n",
       "\n",
       "    .dataframe thead th {\n",
       "        text-align: right;\n",
       "    }\n",
       "</style>\n",
       "<table border=\"1\" class=\"dataframe\">\n",
       "  <thead>\n",
       "    <tr style=\"text-align: right;\">\n",
       "      <th>categ</th>\n",
       "      <th>0</th>\n",
       "      <th>1</th>\n",
       "      <th>2</th>\n",
       "      <th>Total</th>\n",
       "    </tr>\n",
       "    <tr>\n",
       "      <th>sex</th>\n",
       "      <th></th>\n",
       "      <th></th>\n",
       "      <th></th>\n",
       "      <th></th>\n",
       "    </tr>\n",
       "  </thead>\n",
       "  <tbody>\n",
       "    <tr>\n",
       "      <th>f</th>\n",
       "      <td>101206</td>\n",
       "      <td>53774</td>\n",
       "      <td>8122</td>\n",
       "      <td>163102</td>\n",
       "    </tr>\n",
       "    <tr>\n",
       "      <th>m</th>\n",
       "      <td>94064</td>\n",
       "      <td>48851</td>\n",
       "      <td>7634</td>\n",
       "      <td>150549</td>\n",
       "    </tr>\n",
       "    <tr>\n",
       "      <th>Total</th>\n",
       "      <td>195270</td>\n",
       "      <td>102625</td>\n",
       "      <td>15756</td>\n",
       "      <td>313651</td>\n",
       "    </tr>\n",
       "  </tbody>\n",
       "</table>\n",
       "</div>"
      ],
      "text/plain": [
       "categ       0       1      2   Total\n",
       "sex                                 \n",
       "f      101206   53774   8122  163102\n",
       "m       94064   48851   7634  150549\n",
       "Total  195270  102625  15756  313651"
      ]
     },
     "execution_count": 95,
     "metadata": {},
     "output_type": "execute_result"
    }
   ],
   "source": [
    "### Création d'une table de contingence, cont_1\n",
    "#valeurs_obs\n",
    "X = \"sex\"\n",
    "Y = \"categ\"\n",
    "\n",
    "\n",
    "cont_1 = ventes[[X, Y]].pivot_table(index=X, columns=Y, aggfunc=len,margins=True,margins_name=\"Total\").fillna(0).copy()\n",
    "\n",
    "cont_1"
   ]
  },
  {
   "cell_type": "code",
   "execution_count": 96,
   "id": "da7ed352",
   "metadata": {},
   "outputs": [],
   "source": [
    "#Création de la matrice \"valeurs attendues\"\n",
    "tx = cont_1.loc[:,[\"Total\"]]\n",
    "ty = cont_1.loc[[\"Total\"],:]\n",
    "n = len(ventes)\n",
    "Table_indep = tx.dot(ty) / n"
   ]
  },
  {
   "cell_type": "code",
   "execution_count": 97,
   "id": "8ef8f03c",
   "metadata": {},
   "outputs": [],
   "source": [
    "# Valeurs totales observées\n",
    "nb_l = len(cont_1)\n",
    "\n",
    "verif = cont_1.fillna(0)\n",
    "distance = (verif-Table_indep)**2/Table_indep\n",
    "xi_n = distance.sum().sum()\n",
    "table = distance/xi_n"
   ]
  },
  {
   "cell_type": "code",
   "execution_count": 98,
   "id": "29ae90a1",
   "metadata": {},
   "outputs": [
    {
     "data": {
      "text/html": [
       "<div>\n",
       "<style scoped>\n",
       "    .dataframe tbody tr th:only-of-type {\n",
       "        vertical-align: middle;\n",
       "    }\n",
       "\n",
       "    .dataframe tbody tr th {\n",
       "        vertical-align: top;\n",
       "    }\n",
       "\n",
       "    .dataframe thead th {\n",
       "        text-align: right;\n",
       "    }\n",
       "</style>\n",
       "<table border=\"1\" class=\"dataframe\">\n",
       "  <thead>\n",
       "    <tr style=\"text-align: right;\">\n",
       "      <th>categ</th>\n",
       "      <th>0</th>\n",
       "      <th>1</th>\n",
       "      <th>2</th>\n",
       "      <th>Total</th>\n",
       "    </tr>\n",
       "    <tr>\n",
       "      <th>sex</th>\n",
       "      <th></th>\n",
       "      <th></th>\n",
       "      <th></th>\n",
       "      <th></th>\n",
       "    </tr>\n",
       "  </thead>\n",
       "  <tbody>\n",
       "    <tr>\n",
       "      <th>f</th>\n",
       "      <td>101542.566547</td>\n",
       "      <td>53366.138638</td>\n",
       "      <td>8193.294815</td>\n",
       "      <td>163102.0</td>\n",
       "    </tr>\n",
       "    <tr>\n",
       "      <th>m</th>\n",
       "      <td>93727.433453</td>\n",
       "      <td>49258.861362</td>\n",
       "      <td>7562.705185</td>\n",
       "      <td>150549.0</td>\n",
       "    </tr>\n",
       "    <tr>\n",
       "      <th>Total</th>\n",
       "      <td>195270.000000</td>\n",
       "      <td>102625.000000</td>\n",
       "      <td>15756.000000</td>\n",
       "      <td>313651.0</td>\n",
       "    </tr>\n",
       "  </tbody>\n",
       "</table>\n",
       "</div>"
      ],
      "text/plain": [
       "categ              0              1             2     Total\n",
       "sex                                                        \n",
       "f      101542.566547   53366.138638   8193.294815  163102.0\n",
       "m       93727.433453   49258.861362   7562.705185  150549.0\n",
       "Total  195270.000000  102625.000000  15756.000000  313651.0"
      ]
     },
     "execution_count": 98,
     "metadata": {},
     "output_type": "execute_result"
    }
   ],
   "source": [
    "Table_indep"
   ]
  },
  {
   "cell_type": "code",
   "execution_count": 99,
   "id": "f00515b5",
   "metadata": {
    "scrolled": true
   },
   "outputs": [
    {
     "data": {
      "image/png": "[encoded data removed]",
      "text/plain": [
       "<Figure size 432x288 with 2 Axes>"
      ]
     },
     "metadata": {
      "needs_background": "light"
     },
     "output_type": "display_data"
    }
   ],
   "source": [
    "sns.heatmap(table.iloc[:-1,:-1],annot=True,cmap=\"tab20\")\n",
    "plt.title(\"Heatmap 1:Relation entre sexe et catégorie de produit acheté en 2021-2022\")\n",
    "plt.ylabel(\"sexe\")\n",
    "plt.xlabel(\"Catégorie\")\n",
    "plt.show()"
   ]
  },
  {
   "cell_type": "markdown",
   "id": "5099b92f",
   "metadata": {},
   "source": [
    "#### Test du khi2"
   ]
  },
  {
   "cell_type": "code",
   "execution_count": 100,
   "id": "0b6bbe85",
   "metadata": {},
   "outputs": [
    {
     "data": {
      "text/html": [
       "<div>\n",
       "<style scoped>\n",
       "    .dataframe tbody tr th:only-of-type {\n",
       "        vertical-align: middle;\n",
       "    }\n",
       "\n",
       "    .dataframe tbody tr th {\n",
       "        vertical-align: top;\n",
       "    }\n",
       "\n",
       "    .dataframe thead th {\n",
       "        text-align: right;\n",
       "    }\n",
       "</style>\n",
       "<table border=\"1\" class=\"dataframe\">\n",
       "  <thead>\n",
       "    <tr style=\"text-align: right;\">\n",
       "      <th>categ</th>\n",
       "      <th>0</th>\n",
       "      <th>1</th>\n",
       "      <th>2</th>\n",
       "      <th>Total</th>\n",
       "    </tr>\n",
       "    <tr>\n",
       "      <th>sex</th>\n",
       "      <th></th>\n",
       "      <th></th>\n",
       "      <th></th>\n",
       "      <th></th>\n",
       "    </tr>\n",
       "  </thead>\n",
       "  <tbody>\n",
       "    <tr>\n",
       "      <th>f</th>\n",
       "      <td>1.115562</td>\n",
       "      <td>3.117162</td>\n",
       "      <td>0.620379</td>\n",
       "      <td>0.0</td>\n",
       "    </tr>\n",
       "    <tr>\n",
       "      <th>m</th>\n",
       "      <td>1.208579</td>\n",
       "      <td>3.377075</td>\n",
       "      <td>0.672107</td>\n",
       "      <td>0.0</td>\n",
       "    </tr>\n",
       "    <tr>\n",
       "      <th>Total</th>\n",
       "      <td>0.000000</td>\n",
       "      <td>0.000000</td>\n",
       "      <td>0.000000</td>\n",
       "      <td>0.0</td>\n",
       "    </tr>\n",
       "  </tbody>\n",
       "</table>\n",
       "</div>"
      ],
      "text/plain": [
       "categ         0         1         2  Total\n",
       "sex                                       \n",
       "f      1.115562  3.117162  0.620379    0.0\n",
       "m      1.208579  3.377075  0.672107    0.0\n",
       "Total  0.000000  0.000000  0.000000    0.0"
      ]
     },
     "execution_count": 100,
     "metadata": {},
     "output_type": "execute_result"
    }
   ],
   "source": [
    "#Calcul de la matrice \"écart au carré normalisé de la valeur attendue VS valeur observée\"\n",
    "\n",
    "# Matrice\n",
    "freq = (cont_1-Table_indep)**2/Table_indep\n",
    "freq"
   ]
  },
  {
   "cell_type": "markdown",
   "id": "6b4c1e56",
   "metadata": {},
   "source": [
    "# Calcul du Chi2"
   ]
  },
  {
   "cell_type": "code",
   "execution_count": 101,
   "id": "f713e0f6",
   "metadata": {},
   "outputs": [
    {
     "data": {
      "text/plain": [
       "10.11086551372657"
      ]
     },
     "execution_count": 101,
     "metadata": {},
     "output_type": "execute_result"
    }
   ],
   "source": [
    "#Somme des valeurs de la précédente matrice. Cette somme suit une loi du Chi2 à k degrés de liberté.\n",
    "#k = observed.size - sum(observed.shape) + observed.ndim - 1 (D'après la documentation de scipy.stats)\n",
    "\n",
    "chi2 = freq.sum().sum()\n",
    "chi2"
   ]
  },
  {
   "cell_type": "code",
   "execution_count": 102,
   "id": "f7c52b3c",
   "metadata": {},
   "outputs": [
    {
     "data": {
      "text/plain": [
       "10.110865513726571"
      ]
     },
     "execution_count": 102,
     "metadata": {},
     "output_type": "execute_result"
    }
   ],
   "source": [
    "st_chi2, st_p, st_dof, st_exp = st.chi2_contingency(cont_1)\n",
    "st_chi2"
   ]
  },
  {
   "cell_type": "markdown",
   "id": "a98e9eca",
   "metadata": {},
   "source": [
    "#### Le khi2 est de 10.110865513726571.\n",
    "#### Degré de liberté est égal à (3-1)*(2-1), soit 2\n",
    "#### La marge d'erreur est de 0,05 qui renvoit à 5,991. \n",
    "#### Il y a une corrélation entre les variables sexe et catégorie. "
   ]
  },
  {
   "cell_type": "markdown",
   "id": "eac4cb46",
   "metadata": {},
   "source": [
    "### Relation entre âge et la taille du panier moyen (en nombre d’articles) "
   ]
  },
  {
   "cell_type": "code",
   "execution_count": 103,
   "id": "688f49e6",
   "metadata": {},
   "outputs": [
    {
     "data": {
      "text/html": [
       "<div>\n",
       "<style scoped>\n",
       "    .dataframe tbody tr th:only-of-type {\n",
       "        vertical-align: middle;\n",
       "    }\n",
       "\n",
       "    .dataframe tbody tr th {\n",
       "        vertical-align: top;\n",
       "    }\n",
       "\n",
       "    .dataframe thead th {\n",
       "        text-align: right;\n",
       "    }\n",
       "</style>\n",
       "<table border=\"1\" class=\"dataframe\">\n",
       "  <thead>\n",
       "    <tr style=\"text-align: right;\">\n",
       "      <th></th>\n",
       "      <th>session_id</th>\n",
       "      <th>age</th>\n",
       "    </tr>\n",
       "  </thead>\n",
       "  <tbody>\n",
       "    <tr>\n",
       "      <th>0</th>\n",
       "      <td>s_18746</td>\n",
       "      <td>45</td>\n",
       "    </tr>\n",
       "    <tr>\n",
       "      <th>1</th>\n",
       "      <td>s_97382</td>\n",
       "      <td>45</td>\n",
       "    </tr>\n",
       "    <tr>\n",
       "      <th>2</th>\n",
       "      <td>s_81509</td>\n",
       "      <td>45</td>\n",
       "    </tr>\n",
       "    <tr>\n",
       "      <th>3</th>\n",
       "      <td>s_81509</td>\n",
       "      <td>45</td>\n",
       "    </tr>\n",
       "    <tr>\n",
       "      <th>4</th>\n",
       "      <td>s_141302</td>\n",
       "      <td>45</td>\n",
       "    </tr>\n",
       "  </tbody>\n",
       "</table>\n",
       "</div>"
      ],
      "text/plain": [
       "  session_id  age\n",
       "0    s_18746   45\n",
       "1    s_97382   45\n",
       "2    s_81509   45\n",
       "3    s_81509   45\n",
       "4   s_141302   45"
      ]
     },
     "execution_count": 103,
     "metadata": {},
     "output_type": "execute_result"
    }
   ],
   "source": [
    "panier_age = ventes[[\"session_id\",\"age\"]]\n",
    "\n",
    "\n",
    "panier_age.head(5)"
   ]
  },
  {
   "cell_type": "code",
   "execution_count": 104,
   "id": "bef7f9fc",
   "metadata": {},
   "outputs": [
    {
     "data": {
      "text/html": [
       "<div>\n",
       "<style scoped>\n",
       "    .dataframe tbody tr th:only-of-type {\n",
       "        vertical-align: middle;\n",
       "    }\n",
       "\n",
       "    .dataframe tbody tr th {\n",
       "        vertical-align: top;\n",
       "    }\n",
       "\n",
       "    .dataframe thead th {\n",
       "        text-align: right;\n",
       "    }\n",
       "</style>\n",
       "<table border=\"1\" class=\"dataframe\">\n",
       "  <thead>\n",
       "    <tr style=\"text-align: right;\">\n",
       "      <th></th>\n",
       "      <th>session_id</th>\n",
       "      <th>price</th>\n",
       "    </tr>\n",
       "  </thead>\n",
       "  <tbody>\n",
       "    <tr>\n",
       "      <th>0</th>\n",
       "      <td>s_1</td>\n",
       "      <td>11.99</td>\n",
       "    </tr>\n",
       "    <tr>\n",
       "      <th>1</th>\n",
       "      <td>s_10</td>\n",
       "      <td>26.99</td>\n",
       "    </tr>\n",
       "    <tr>\n",
       "      <th>2</th>\n",
       "      <td>s_100</td>\n",
       "      <td>33.72</td>\n",
       "    </tr>\n",
       "    <tr>\n",
       "      <th>3</th>\n",
       "      <td>s_1000</td>\n",
       "      <td>39.22</td>\n",
       "    </tr>\n",
       "    <tr>\n",
       "      <th>4</th>\n",
       "      <td>s_10000</td>\n",
       "      <td>41.49</td>\n",
       "    </tr>\n",
       "    <tr>\n",
       "      <th>...</th>\n",
       "      <td>...</td>\n",
       "      <td>...</td>\n",
       "    </tr>\n",
       "    <tr>\n",
       "      <th>157803</th>\n",
       "      <td>s_99994</td>\n",
       "      <td>28.92</td>\n",
       "    </tr>\n",
       "    <tr>\n",
       "      <th>157804</th>\n",
       "      <td>s_99995</td>\n",
       "      <td>19.84</td>\n",
       "    </tr>\n",
       "    <tr>\n",
       "      <th>157805</th>\n",
       "      <td>s_99996</td>\n",
       "      <td>56.27</td>\n",
       "    </tr>\n",
       "    <tr>\n",
       "      <th>157806</th>\n",
       "      <td>s_99997</td>\n",
       "      <td>6.99</td>\n",
       "    </tr>\n",
       "    <tr>\n",
       "      <th>157807</th>\n",
       "      <td>s_99998</td>\n",
       "      <td>35.11</td>\n",
       "    </tr>\n",
       "  </tbody>\n",
       "</table>\n",
       "<p>157808 rows × 2 columns</p>\n",
       "</div>"
      ],
      "text/plain": [
       "       session_id  price\n",
       "0             s_1  11.99\n",
       "1            s_10  26.99\n",
       "2           s_100  33.72\n",
       "3          s_1000  39.22\n",
       "4         s_10000  41.49\n",
       "...           ...    ...\n",
       "157803    s_99994  28.92\n",
       "157804    s_99995  19.84\n",
       "157805    s_99996  56.27\n",
       "157806    s_99997   6.99\n",
       "157807    s_99998  35.11\n",
       "\n",
       "[157808 rows x 2 columns]"
      ]
     },
     "execution_count": 104,
     "metadata": {},
     "output_type": "execute_result"
    }
   ],
   "source": [
    "#Panier moyen\n",
    "panier_m=ventes[[\"session_id\",\"price\"]]\n",
    "panier_m1=panier_m.groupby([\"session_id\"]).sum()\n",
    "\n",
    "panier_m1 = panier_m1.reset_index()\n",
    "panier_m1"
   ]
  },
  {
   "cell_type": "code",
   "execution_count": 105,
   "id": "ea2ed530",
   "metadata": {},
   "outputs": [
    {
     "data": {
      "text/html": [
       "<div>\n",
       "<style scoped>\n",
       "    .dataframe tbody tr th:only-of-type {\n",
       "        vertical-align: middle;\n",
       "    }\n",
       "\n",
       "    .dataframe tbody tr th {\n",
       "        vertical-align: top;\n",
       "    }\n",
       "\n",
       "    .dataframe thead th {\n",
       "        text-align: right;\n",
       "    }\n",
       "</style>\n",
       "<table border=\"1\" class=\"dataframe\">\n",
       "  <thead>\n",
       "    <tr style=\"text-align: right;\">\n",
       "      <th></th>\n",
       "      <th>session_id</th>\n",
       "      <th>age</th>\n",
       "      <th>price</th>\n",
       "    </tr>\n",
       "  </thead>\n",
       "  <tbody>\n",
       "    <tr>\n",
       "      <th>0</th>\n",
       "      <td>s_18746</td>\n",
       "      <td>45</td>\n",
       "      <td>24.97</td>\n",
       "    </tr>\n",
       "    <tr>\n",
       "      <th>1</th>\n",
       "      <td>s_18746</td>\n",
       "      <td>45</td>\n",
       "      <td>24.97</td>\n",
       "    </tr>\n",
       "    <tr>\n",
       "      <th>2</th>\n",
       "      <td>s_18746</td>\n",
       "      <td>45</td>\n",
       "      <td>24.97</td>\n",
       "    </tr>\n",
       "    <tr>\n",
       "      <th>3</th>\n",
       "      <td>s_97382</td>\n",
       "      <td>45</td>\n",
       "      <td>16.35</td>\n",
       "    </tr>\n",
       "    <tr>\n",
       "      <th>4</th>\n",
       "      <td>s_97382</td>\n",
       "      <td>45</td>\n",
       "      <td>16.35</td>\n",
       "    </tr>\n",
       "    <tr>\n",
       "      <th>...</th>\n",
       "      <td>...</td>\n",
       "      <td>...</td>\n",
       "      <td>...</td>\n",
       "    </tr>\n",
       "    <tr>\n",
       "      <th>313646</th>\n",
       "      <td>s_102200</td>\n",
       "      <td>89</td>\n",
       "      <td>8.99</td>\n",
       "    </tr>\n",
       "    <tr>\n",
       "      <th>313647</th>\n",
       "      <td>s_90430</td>\n",
       "      <td>52</td>\n",
       "      <td>13.36</td>\n",
       "    </tr>\n",
       "    <tr>\n",
       "      <th>313648</th>\n",
       "      <td>s_43342</td>\n",
       "      <td>26</td>\n",
       "      <td>102.82</td>\n",
       "    </tr>\n",
       "    <tr>\n",
       "      <th>313649</th>\n",
       "      <td>s_142586</td>\n",
       "      <td>26</td>\n",
       "      <td>189.99</td>\n",
       "    </tr>\n",
       "    <tr>\n",
       "      <th>313650</th>\n",
       "      <td>s_95415</td>\n",
       "      <td>62</td>\n",
       "      <td>19.85</td>\n",
       "    </tr>\n",
       "  </tbody>\n",
       "</table>\n",
       "<p>313651 rows × 3 columns</p>\n",
       "</div>"
      ],
      "text/plain": [
       "       session_id  age   price\n",
       "0         s_18746   45   24.97\n",
       "1         s_18746   45   24.97\n",
       "2         s_18746   45   24.97\n",
       "3         s_97382   45   16.35\n",
       "4         s_97382   45   16.35\n",
       "...           ...  ...     ...\n",
       "313646   s_102200   89    8.99\n",
       "313647    s_90430   52   13.36\n",
       "313648    s_43342   26  102.82\n",
       "313649   s_142586   26  189.99\n",
       "313650    s_95415   62   19.85\n",
       "\n",
       "[313651 rows x 3 columns]"
      ]
     },
     "execution_count": 105,
     "metadata": {},
     "output_type": "execute_result"
    }
   ],
   "source": [
    "#jointure des tables panier_age et panier_m1 via la méthode merge \n",
    "panier_age = pd.merge(panier_age,panier_m1, left_on=\"session_id\", right_on=\"session_id\")\n",
    "panier_age"
   ]
  },
  {
   "cell_type": "code",
   "execution_count": 106,
   "id": "16854aa3",
   "metadata": {
    "scrolled": true
   },
   "outputs": [
    {
     "name": "stdout",
     "output_type": "stream",
     "text": [
      "-0.2537483623525303\n"
     ]
    },
    {
     "data": {
      "image/png": "[encoded data removed]",
      "text/plain": [
       "<Figure size 432x288 with 1 Axes>"
      ]
     },
     "metadata": {
      "needs_background": "light"
     },
     "output_type": "display_data"
    }
   ],
   "source": [
    "# Relation age et panier moyen\n",
    "sns.regplot(y=panier_age[\"price\"], x=panier_age[\"age\"],ci = None,scatter_kws = {\"color\": \"c\"})\n",
    "plt.title(\"Relation entre age et panier moyen en 2021-2022\")\n",
    "plt.ylabel(\"panier\")\n",
    "plt.xlabel(\"age\")\n",
    "print(st.pearsonr(panier_age[\"price\"], panier_age[\"age\"])[0])"
   ]
  },
  {
   "cell_type": "code",
   "execution_count": 107,
   "id": "76a84547",
   "metadata": {},
   "outputs": [
    {
     "name": "stdout",
     "output_type": "stream",
     "text": [
      "0.0\n"
     ]
    }
   ],
   "source": [
    "print(st.pearsonr(panier_age[\"price\"], panier_age[\"age\"])[1])"
   ]
  },
  {
   "cell_type": "markdown",
   "id": "b0388f03",
   "metadata": {},
   "source": [
    "#### Le test de pearson est de -0.2537483623525303\n",
    "#### Il y a une faible corrélaion  ente les variables âge et le panier moyen en nombre de marchandises\n",
    "#### Cette interprétation est soutenue par la p_value, inférieure à 0,05."
   ]
  },
  {
   "cell_type": "markdown",
   "id": "54e4f470",
   "metadata": {},
   "source": [
    "### Relation entre âge et le  montant total des achats "
   ]
  },
  {
   "cell_type": "code",
   "execution_count": 108,
   "id": "f49cd6a5",
   "metadata": {},
   "outputs": [
    {
     "data": {
      "text/html": [
       "<div>\n",
       "<style scoped>\n",
       "    .dataframe tbody tr th:only-of-type {\n",
       "        vertical-align: middle;\n",
       "    }\n",
       "\n",
       "    .dataframe tbody tr th {\n",
       "        vertical-align: top;\n",
       "    }\n",
       "\n",
       "    .dataframe thead th {\n",
       "        text-align: right;\n",
       "    }\n",
       "</style>\n",
       "<table border=\"1\" class=\"dataframe\">\n",
       "  <thead>\n",
       "    <tr style=\"text-align: right;\">\n",
       "      <th></th>\n",
       "      <th>client_id</th>\n",
       "      <th>price</th>\n",
       "    </tr>\n",
       "  </thead>\n",
       "  <tbody>\n",
       "    <tr>\n",
       "      <th>0</th>\n",
       "      <td>c_1</td>\n",
       "      <td>300.65</td>\n",
       "    </tr>\n",
       "    <tr>\n",
       "      <th>1</th>\n",
       "      <td>c_10</td>\n",
       "      <td>586.18</td>\n",
       "    </tr>\n",
       "    <tr>\n",
       "      <th>2</th>\n",
       "      <td>c_100</td>\n",
       "      <td>222.87</td>\n",
       "    </tr>\n",
       "    <tr>\n",
       "      <th>3</th>\n",
       "      <td>c_1000</td>\n",
       "      <td>980.02</td>\n",
       "    </tr>\n",
       "    <tr>\n",
       "      <th>4</th>\n",
       "      <td>c_1001</td>\n",
       "      <td>1102.45</td>\n",
       "    </tr>\n",
       "  </tbody>\n",
       "</table>\n",
       "</div>"
      ],
      "text/plain": [
       "  client_id    price\n",
       "0       c_1   300.65\n",
       "1      c_10   586.18\n",
       "2     c_100   222.87\n",
       "3    c_1000   980.02\n",
       "4    c_1001  1102.45"
      ]
     },
     "execution_count": 108,
     "metadata": {},
     "output_type": "execute_result"
    }
   ],
   "source": [
    "#Création d'une table ca_age\n",
    "ca_age_price=ventes[[\"client_id\",\"price\"]]\n",
    "ca_age_price=ca_age_price.groupby([\"client_id\"]).sum()\n",
    "ca_age_price = ca_age_price.reset_index()\n",
    "ca_age_price.head()"
   ]
  },
  {
   "cell_type": "code",
   "execution_count": 109,
   "id": "52d43167",
   "metadata": {},
   "outputs": [],
   "source": [
    "#jointure, via un point merge par âge\n",
    "ca_age_price=pd.merge(ca_age_price,age,left_on=\"client_id\", right_on=\"client_id\")\n"
   ]
  },
  {
   "cell_type": "code",
   "execution_count": 110,
   "id": "e6d372eb",
   "metadata": {},
   "outputs": [
    {
     "data": {
      "text/plain": [
       "Text(0.5, 0, 'Age')"
      ]
     },
     "execution_count": 110,
     "metadata": {},
     "output_type": "execute_result"
    },
    {
     "data": {
      "image/png": "[encoded data removed]",
      "text/plain": [
       "<Figure size 432x288 with 1 Axes>"
      ]
     },
     "metadata": {
      "needs_background": "light"
     },
     "output_type": "display_data"
    }
   ],
   "source": [
    "#Relation entre l'âge et le montant total des achats\n",
    "sns.regplot(y=ca_age_price[\"price\"], x=ca_age_price[\"age\"],ci = None,scatter_kws = {\"color\": \"g\"})\n",
    "plt.title(\"Relation entre l'âge et le montant total des achats en 2021-2022\")\n",
    "plt.ylabel(\"montant des achats\")\n",
    "plt.xlabel(\"Age\")"
   ]
  },
  {
   "cell_type": "markdown",
   "id": "1fe465e5",
   "metadata": {},
   "source": [
    "### Test de pearson"
   ]
  },
  {
   "cell_type": "code",
   "execution_count": 111,
   "id": "e787a229",
   "metadata": {},
   "outputs": [
    {
     "name": "stdout",
     "output_type": "stream",
     "text": [
      "-0.21746995697642102\n"
     ]
    }
   ],
   "source": [
    "print(st.pearsonr(ca_age_price[\"price\"], ca_age_price[\"age\"])[0])"
   ]
  },
  {
   "cell_type": "code",
   "execution_count": 112,
   "id": "c1356bce",
   "metadata": {},
   "outputs": [
    {
     "name": "stdout",
     "output_type": "stream",
     "text": [
      "0.0\n"
     ]
    }
   ],
   "source": [
    "#p_value\n",
    "print(st.pearsonr(ca_age_price[\"price\"], ca_age_price[\"age\"])[1])"
   ]
  },
  {
   "cell_type": "markdown",
   "id": "08157afc",
   "metadata": {},
   "source": [
    "#### Le coefficient de pearson est négatif, ce qui indique une faible relation  entre les variables âge et le montant total du panier. La p value conforte cette interprétation.\n"
   ]
  },
  {
   "cell_type": "markdown",
   "id": "51e4a8cf",
   "metadata": {},
   "source": [
    "### Corrélation entre âge et catégories de produits achetés"
   ]
  },
  {
   "cell_type": "code",
   "execution_count": 113,
   "id": "2088b417",
   "metadata": {},
   "outputs": [
    {
     "data": {
      "text/html": [
       "<div>\n",
       "<style scoped>\n",
       "    .dataframe tbody tr th:only-of-type {\n",
       "        vertical-align: middle;\n",
       "    }\n",
       "\n",
       "    .dataframe tbody tr th {\n",
       "        vertical-align: top;\n",
       "    }\n",
       "\n",
       "    .dataframe thead th {\n",
       "        text-align: right;\n",
       "    }\n",
       "</style>\n",
       "<table border=\"1\" class=\"dataframe\">\n",
       "  <thead>\n",
       "    <tr style=\"text-align: right;\">\n",
       "      <th>categ</th>\n",
       "      <th>0</th>\n",
       "      <th>1</th>\n",
       "      <th>2</th>\n",
       "    </tr>\n",
       "    <tr>\n",
       "      <th>age</th>\n",
       "      <th></th>\n",
       "      <th></th>\n",
       "      <th></th>\n",
       "    </tr>\n",
       "  </thead>\n",
       "  <tbody>\n",
       "    <tr>\n",
       "      <th>18</th>\n",
       "      <td>1668</td>\n",
       "      <td>2759</td>\n",
       "      <td>2921</td>\n",
       "    </tr>\n",
       "    <tr>\n",
       "      <th>19</th>\n",
       "      <td>488</td>\n",
       "      <td>817</td>\n",
       "      <td>877</td>\n",
       "    </tr>\n",
       "    <tr>\n",
       "      <th>20</th>\n",
       "      <td>498</td>\n",
       "      <td>830</td>\n",
       "      <td>896</td>\n",
       "    </tr>\n",
       "    <tr>\n",
       "      <th>21</th>\n",
       "      <td>461</td>\n",
       "      <td>732</td>\n",
       "      <td>839</td>\n",
       "    </tr>\n",
       "    <tr>\n",
       "      <th>22</th>\n",
       "      <td>587</td>\n",
       "      <td>791</td>\n",
       "      <td>797</td>\n",
       "    </tr>\n",
       "    <tr>\n",
       "      <th>...</th>\n",
       "      <td>...</td>\n",
       "      <td>...</td>\n",
       "      <td>...</td>\n",
       "    </tr>\n",
       "    <tr>\n",
       "      <th>89</th>\n",
       "      <td>71</td>\n",
       "      <td>92</td>\n",
       "      <td>1</td>\n",
       "    </tr>\n",
       "    <tr>\n",
       "      <th>90</th>\n",
       "      <td>73</td>\n",
       "      <td>85</td>\n",
       "      <td>1</td>\n",
       "    </tr>\n",
       "    <tr>\n",
       "      <th>91</th>\n",
       "      <td>36</td>\n",
       "      <td>47</td>\n",
       "      <td>1</td>\n",
       "    </tr>\n",
       "    <tr>\n",
       "      <th>92</th>\n",
       "      <td>43</td>\n",
       "      <td>71</td>\n",
       "      <td>1</td>\n",
       "    </tr>\n",
       "    <tr>\n",
       "      <th>93</th>\n",
       "      <td>35</td>\n",
       "      <td>51</td>\n",
       "      <td>0</td>\n",
       "    </tr>\n",
       "  </tbody>\n",
       "</table>\n",
       "<p>76 rows × 3 columns</p>\n",
       "</div>"
      ],
      "text/plain": [
       "categ     0     1     2\n",
       "age                    \n",
       "18     1668  2759  2921\n",
       "19      488   817   877\n",
       "20      498   830   896\n",
       "21      461   732   839\n",
       "22      587   791   797\n",
       "..      ...   ...   ...\n",
       "89       71    92     1\n",
       "90       73    85     1\n",
       "91       36    47     1\n",
       "92       43    71     1\n",
       "93       35    51     0\n",
       "\n",
       "[76 rows x 3 columns]"
      ]
     },
     "execution_count": 113,
     "metadata": {},
     "output_type": "execute_result"
    }
   ],
   "source": [
    "#valeurs_obs\n",
    "X = \"age\"\n",
    "Y = \"categ\"\n",
    "\n",
    "cont = ventes[[X, Y]].pivot_table(index=X, columns=Y, aggfunc=len).fillna(0).copy()\n",
    "\n",
    "tx =ventes [X].value_counts()\n",
    "ty =ventes [Y].value_counts()\n",
    "\n",
    "cont = cont.astype(int)\n",
    "cont"
   ]
  },
  {
   "cell_type": "code",
   "execution_count": 114,
   "id": "d012fa77",
   "metadata": {},
   "outputs": [],
   "source": [
    "#L'âge peut poser un problème dans la lecture des données. \n",
    "#Pour contourner ce problème, on peut créer des classe d'âges\n",
    "gp_1 = ventes['age'] < 30\n",
    "ventes.loc[gp_1, 'classe_age'] = \"classe 1\"\n",
    "gp_2 = (ventes['age'] >= 30 ) & (ventes['age']< 50 )\n",
    "ventes.loc[gp_2, 'classe_age'] = \"classe 2\"\n",
    "gp_3 = ventes['age'] >= 50\n",
    "ventes.loc[gp_3, 'classe_age'] = \"classe 3\"\n",
    "\n",
    "ventes['classe_age'] = ventes['classe_age'].astype('category')"
   ]
  },
  {
   "cell_type": "code",
   "execution_count": 115,
   "id": "a8fa51fd",
   "metadata": {},
   "outputs": [
    {
     "data": {
      "image/png": "[encoded data removed]",
      "text/plain": [
       "<Figure size 432x288 with 2 Axes>"
      ]
     },
     "metadata": {
      "needs_background": "light"
     },
     "output_type": "display_data"
    }
   ],
   "source": [
    "X = \"classe_age\"\n",
    "Y = \"categ\"\n",
    "\n",
    "cont = ventes[[X,Y]].pivot_table(index=X,columns=Y,aggfunc=len,margins=True,margins_name=\"Total\")\n",
    "\n",
    "tx = cont.loc[:,[\"Total\"]]\n",
    "ty = cont.loc[[\"Total\"],:]\n",
    "n = len(ventes)\n",
    "indep = tx.dot(ty) / n\n",
    "\n",
    "# On remplace les valeurs nulles par 0\n",
    "c = cont.fillna(0) \n",
    "ecart = (c-indep)**2/indep\n",
    "xi_n = ecart.sum().sum()\n",
    "table = ecart/xi_n\n",
    "sns.heatmap(table.iloc[:-1,:-1],annot=True,cmap=\"PuBuGn\")\n",
    "plt.title(\"Relation entre classe d'âge et catégories de produits achetés en 2021-2022\")\n",
    "plt.ylabel(\"lasses d'age\")\n",
    "plt.xlabel(\"Catégories\")\n",
    "plt.show()"
   ]
  },
  {
   "cell_type": "code",
   "execution_count": 116,
   "id": "01be4ecd",
   "metadata": {},
   "outputs": [
    {
     "data": {
      "text/plain": [
       "123088.41838405657"
      ]
     },
     "execution_count": 116,
     "metadata": {},
     "output_type": "execute_result"
    }
   ],
   "source": [
    "st_chi2, st_p, st_dof, st_exp = st.chi2_contingency(cont )\n",
    "st_chi2"
   ]
  },
  {
   "cell_type": "code",
   "execution_count": 117,
   "id": "ad2213b4",
   "metadata": {},
   "outputs": [
    {
     "data": {
      "text/plain": [
       "(0.0,)"
      ]
     },
     "execution_count": 117,
     "metadata": {},
     "output_type": "execute_result"
    }
   ],
   "source": [
    "st_p,"
   ]
  },
  {
   "cell_type": "code",
   "execution_count": 118,
   "id": "aab1234d",
   "metadata": {},
   "outputs": [
    {
     "data": {
      "text/plain": [
       "9"
      ]
     },
     "execution_count": 118,
     "metadata": {},
     "output_type": "execute_result"
    }
   ],
   "source": [
    "st_dof"
   ]
  },
  {
   "cell_type": "code",
   "execution_count": 119,
   "id": "a8da3c5e",
   "metadata": {},
   "outputs": [
    {
     "data": {
      "text/plain": [
       "array([[ 20804.45332551,  10933.87116572,   1678.67550877,\n",
       "         33417.        ],\n",
       "       [119237.90056464,  62665.99859398,   9621.10084138,\n",
       "        191525.        ],\n",
       "       [ 55227.64610985,  29025.1302403 ,   4456.22364985,\n",
       "         88709.        ],\n",
       "       [195270.        , 102625.        ,  15756.        ,\n",
       "        313651.        ]])"
      ]
     },
     "execution_count": 119,
     "metadata": {},
     "output_type": "execute_result"
    }
   ],
   "source": [
    "st_exp"
   ]
  },
  {
   "cell_type": "markdown",
   "id": "a2a28c24",
   "metadata": {},
   "source": [
    "#### Le khi2 est de 137137.97556981342.\n",
    "#### Le degré de liberté, calculé à partir de la table de contingence cont, est de 150. \n",
    "#### Il n'y a pas de correspondance avec la table du khi2. \n",
    "#### le nieau élevé du khi2 traduit une forte corrélation entre les variables âge et catégorie."
   ]
  }
 ],
 "metadata": {
  "kernelspec": {
   "display_name": "Python 3",
   "language": "python",
   "name": "python3"
  },
  "language_info": {
   "codemirror_mode": {
    "name": "ipython",
    "version": 3
   },
   "file_extension": ".py",
   "mimetype": "text/x-python",
   "name": "python",
   "nbconvert_exporter": "python",
   "pygments_lexer": "ipython3",
   "version": "3.8.8"
  }
 },
 "nbformat": 4,
 "nbformat_minor": 5
}
